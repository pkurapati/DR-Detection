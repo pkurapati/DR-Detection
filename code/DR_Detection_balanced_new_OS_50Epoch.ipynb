{
 "cells": [
  {
   "cell_type": "markdown",
   "metadata": {},
   "source": [
    "# DrEyeBot Retinal Image Analysis using CNN"
   ]
  },
  {
   "cell_type": "code",
   "execution_count": 1,
   "metadata": {},
   "outputs": [],
   "source": [
    "# This tells matplotlib not to try opening a new window for each plot.\n",
    "%matplotlib inline\n",
    "\n",
    "# Import a bunch of libraries.\n",
    "import datetime\n",
    "import time\n",
    "import random\n",
    "import numpy as np\n",
    "import matplotlib.pyplot as plt\n",
    "import matplotlib.image as mpimg\n",
    "import os\n",
    "import sys\n",
    "import imutils\n",
    "from matplotlib.ticker import MultipleLocator\n",
    "from sklearn.pipeline import Pipeline\n",
    "from sklearn.datasets import fetch_mldata\n",
    "from sklearn.neighbors import KNeighborsClassifier\n",
    "from sklearn.metrics import confusion_matrix\n",
    "from sklearn.linear_model import LinearRegression\n",
    "from sklearn.naive_bayes import BernoulliNB\n",
    "from sklearn.naive_bayes import MultinomialNB\n",
    "from sklearn.naive_bayes import GaussianNB\n",
    "#from sklearn.grid_search import GridSearchCV\n",
    "from sklearn.metrics import classification_report\n",
    "from sklearn.metrics import cohen_kappa_score\n",
    "from sklearn.utils.multiclass import unique_labels\n",
    "from shutil import copyfile\n",
    "\n",
    "import pandas as pd\n",
    "import cv2\n",
    "import seaborn as sn\n",
    "\n",
    "# Set the randomizer seed so results are the same each time.\n",
    "np.random.seed(0)"
   ]
  },
  {
   "cell_type": "code",
   "execution_count": 2,
   "metadata": {},
   "outputs": [
    {
     "name": "stderr",
     "output_type": "stream",
     "text": [
      "Using TensorFlow backend.\n"
     ]
    }
   ],
   "source": [
    "from keras.models import Sequential,Model\n",
    "from keras.layers.normalization import BatchNormalization\n",
    "from keras.layers.convolutional import Conv2D\n",
    "from keras.layers.convolutional import Convolution2D\n",
    "from keras.layers.convolutional import MaxPooling2D\n",
    "from keras.layers.convolutional import ZeroPadding2D\n",
    "from keras.layers.core import Activation\n",
    "from keras.layers.core import Flatten\n",
    "from keras.layers.core import Dropout\n",
    "from keras.layers.core import Dense\n",
    "from keras import backend as K\n",
    "from keras.wrappers.scikit_learn import KerasRegressor\n",
    "from keras.wrappers.scikit_learn import KerasClassifier\n",
    "from keras.utils import to_categorical\n",
    "import tensorflow as tf\n",
    "from keras.models import model_from_json\n",
    "from keras import applications\n",
    "from keras.callbacks import ModelCheckpoint, LearningRateScheduler, TensorBoard, EarlyStopping\n",
    "from keras.initializers import glorot_normal\n",
    "from keras import losses\n",
    "\n",
    "from keras.preprocessing.image import ImageDataGenerator\n",
    "from keras.optimizers import Adam,RMSprop,SGD\n",
    "from keras.preprocessing.image import img_to_array\n",
    "from sklearn.preprocessing import LabelBinarizer\n",
    "from sklearn.model_selection import train_test_split\n",
    "#from pyimagesearch.smallervggnet import SmallerVGGNet"
   ]
  },
  {
   "cell_type": "code",
   "execution_count": 3,
   "metadata": {},
   "outputs": [
    {
     "name": "stdout",
     "output_type": "stream",
     "text": [
      "[name: \"/device:CPU:0\"\n",
      "device_type: \"CPU\"\n",
      "memory_limit: 268435456\n",
      "locality {\n",
      "}\n",
      "incarnation: 15134986333140404048\n",
      ", name: \"/device:XLA_GPU:0\"\n",
      "device_type: \"XLA_GPU\"\n",
      "memory_limit: 17179869184\n",
      "locality {\n",
      "}\n",
      "incarnation: 4635295493171668838\n",
      "physical_device_desc: \"device: XLA_GPU device\"\n",
      ", name: \"/device:XLA_CPU:0\"\n",
      "device_type: \"XLA_CPU\"\n",
      "memory_limit: 17179869184\n",
      "locality {\n",
      "}\n",
      "incarnation: 16153903698557125159\n",
      "physical_device_desc: \"device: XLA_CPU device\"\n",
      ", name: \"/device:GPU:0\"\n",
      "device_type: \"GPU\"\n",
      "memory_limit: 15560690893\n",
      "locality {\n",
      "  bus_id: 1\n",
      "  links {\n",
      "  }\n",
      "}\n",
      "incarnation: 10351567175164560907\n",
      "physical_device_desc: \"device: 0, name: Tesla V100-SXM2-16GB, pci bus id: 0000:00:04.0, compute capability: 7.0\"\n",
      "]\n"
     ]
    }
   ],
   "source": [
    "from tensorflow.python.client import device_lib\n",
    "print(device_lib.list_local_devices())"
   ]
  },
  {
   "cell_type": "markdown",
   "metadata": {},
   "source": [
    "## Common Functions"
   ]
  },
  {
   "cell_type": "markdown",
   "metadata": {},
   "source": [
    "### Helper Functions"
   ]
  },
  {
   "cell_type": "code",
   "execution_count": 4,
   "metadata": {},
   "outputs": [],
   "source": [
    "def levelset(x):\n",
    "    \"\"\" Sets Levels 1-4 to level 1\"\"\"\n",
    "    if x>0:\n",
    "        return 1\n",
    "    else:\n",
    "        return 0\n",
    "\n",
    "def RMSE(actual, predict):\n",
    "    diff = actual - predict\n",
    "    diff = sum(diff**2) / len(actual)\n",
    "    return np.sqrt(diff)\n",
    "\n",
    "def select_toy_images(image_label,N=-1,images_percent=list()):\n",
    "    \"\"\" Selects number of images from each class. By default it is ALL images\"\"\"\n",
    "    image_list = list()\n",
    "    final_images = pd.DataFrame(columns = image_label.columns)\n",
    "    # We create a toy dataset of 'N' images, maintaining the split of the original \n",
    "    if N==-1:\n",
    "            # We need to pick all the images. No need to sample\n",
    "            # We can ignore the percentage here\n",
    "            final_images = image_label\n",
    "    else:\n",
    "        for level in range(5):\n",
    "        # Get respective number of images in each level\n",
    "            if len(images_percent)==5:\n",
    "                number_of_images = int(images_percent[level]*N/100)\n",
    "            else:\n",
    "                # We have no percentage of images. Setting the default safe percentage\n",
    "                images_percent = [73.6,6.9,15.1,2.4,2]\n",
    "                number_of_images = int(images_percent[level]*N/100)\n",
    "            sample_images = image_label[image_label.level==level].sample(n=number_of_images,axis=0)\n",
    "            frames = [final_images,sample_images]\n",
    "            final_images = pd.concat(frames).reset_index(drop=True)\n",
    "    return final_images \n",
    "\n",
    "def preprocess(image,scale=224):\n",
    "    \"\"\" preprocess the test image and covert to array \"\"\"\n",
    "    inter=cv2.INTER_AREA\n",
    "    (h, w) = image.shape[:2]\n",
    "    dW = 0\n",
    "    dH = 0\n",
    "\n",
    "    width = scale\n",
    "    height = scale\n",
    "\n",
    "    # if the width is smaller than the height, then resize\n",
    "    # along the width (i.e., the smaller dimension) and then\n",
    "    # update the deltas to crop the height to the desired\n",
    "    # dimension\n",
    "    if w < h:\n",
    "        image = imutils.resize(image, width=width,\n",
    "            inter=inter)\n",
    "        dH = int((image.shape[0] - height) / 2.0)\n",
    "\n",
    "    # otherwise, the height is smaller than the width so\n",
    "    # resize along the height and then update the deltas\n",
    "    # crop along the width\n",
    "    else:\n",
    "        image = imutils.resize(image, height=height,\n",
    "            inter=inter)\n",
    "        dW = int((image.shape[1] - width) / 2.0)\n",
    "\n",
    "    # now that our images have been resized, we need to\n",
    "    # re-grab the width and height, followed by performing\n",
    "    # the crop\n",
    "    (h, w) = image.shape[:2]\n",
    "    image = image[dH:h - dH, dW:w - dW]\n",
    "\n",
    "    # finally, resize the image to the provided spatial\n",
    "    # dimensions to ensure our output image is always a fixed\n",
    "    # size\n",
    "\n",
    "    image =  cv2.resize(image, (width, height),\n",
    "        interpolation=inter)\n",
    "    image_arr = img_to_array(image)\n",
    "    image_arr = image_arr/255.0\n",
    "    return img_to_array(image_arr)\n",
    "\n",
    "def selector(x):\n",
    "    \"\"\" Function to select the class\"\"\"\n",
    "    if x[0] > x[1]:\n",
    "        return 0\n",
    "    else:\n",
    "        return 1"
   ]
  },
  {
   "cell_type": "markdown",
   "metadata": {},
   "source": [
    "### Model related functions"
   ]
  },
  {
   "cell_type": "code",
   "execution_count": 5,
   "metadata": {},
   "outputs": [],
   "source": [
    "def OrdinalLoss(y_true, y_pred):\n",
    "    weights = K.cast(K.abs(K.argmax(y_true, axis=1) - K.argmax(y_pred, axis=1))/(K.int_shape(y_pred)[1] - 1), dtype='float32')\n",
    "    return (1.0 + weights) * losses.categorical_crossentropy(y_true, y_pred)\n",
    "\n",
    "def OrdinalLoss_new(y_true,y_pred,train_out):\n",
    "    \"\"\" Custom loss Function for Ordinal Data\"\"\"\n",
    "    num_classes=5\n",
    "    dx = np.ones((num_classes,1)) * np.arange(num_classes)\n",
    "    dy = dx.transpose()\n",
    "    d = np.sqrt(abs(dx - dy))\n",
    "    overestimate_penalty = np.triu(d[:,1:]) / (np.spacing(1) + \n",
    "                                               (np.sum(np.triu(d[:,1:]), axis=1)/\n",
    "                                                (np.arange(num_classes)[::-1]+np.spacing(1))).reshape((5,1)))\n",
    "    underestimate_penalty = overestimate_penalty[::-1, ::-1]\n",
    "    overestimate_penalty = tf.convert_to_tensor(overestimate_penalty, np.float32)\n",
    "    underestimate_penalty = tf.convert_to_tensor(underestimate_penalty, np.float32)\n",
    "    #loss_train = -K.mean(K.sum((underestimate_penalty[y_pred])*K.log(train_out) + (overestimate_penalty[y_pred])*K.log(1-train_out), axis=1))\n",
    "    loss_train = K.binary_crossentropy(y_true, y_pred)\n",
    "    loss_val = K.binary_crossentropy(y_true, y_pred)\n",
    "    return K.in_train_phase(loss_train, loss_val)\n",
    "\n",
    "def LossWrapper(train_out):\n",
    "    def customLoss(y_true, y_pred):\n",
    "        return OrdinalDataLoss_new(y_true, y_pred, train_out)\n",
    "    return customLoss"
   ]
  },
  {
   "cell_type": "code",
   "execution_count": 6,
   "metadata": {},
   "outputs": [],
   "source": [
    "def InceptionResNetV2(input_shape,layers_to_skip=None,weights=None,include_top=True):\n",
    "    \"\"\" InceptionResNet with transfer learning. Using Keras built in function\"\"\"\n",
    "    model = applications.inception_resnet_v2.InceptionResNetV2(weights = weights, include_top=include_top, input_shape = input_shape)\n",
    "    if layers_to_skip:\n",
    "        if weights==None:\n",
    "            print(\"ERROR: You cannot have weights as none if layers_to_skip is non-zero\")\n",
    "        else:\n",
    "            for layer in model.layers[:layers_to_skip]:\n",
    "                layer.trainable = False\n",
    "            #Adding custom Layers \n",
    "            x = model.output\n",
    "            x = Flatten()(x)\n",
    "            x = Dense(4096, activation=\"relu\")(x)\n",
    "            x = Dropout(0.5)(x)\n",
    "            x = Dense(4096, activation=\"relu\")(x)\n",
    "            x = Dropout(0.5)(x)\n",
    "    else:\n",
    "        x = model.output\n",
    "    \n",
    "    predictions = Dense(num_classes, activation=\"softmax\")(x)\n",
    "    adam_opt = Adam(lr=0.01)\n",
    "    rms_opt = RMSprop(lr=0.01)\n",
    "    sgd = SGD(lr=0.001, decay=1e-6, momentum=0.5, nesterov=True)\n",
    "    # creating the final model \n",
    "    model_final = Model(input = model.input, output = predictions)\n",
    "    #model.compile(loss=OrdinalLoss,optimizer = sgd, metrics = ['accuracy'])\n",
    "    model_final.compile(loss = 'binary_crossentropy', optimizer = sgd, metrics = ['accuracy'])\n",
    "    return model_final\n",
    "\n",
    "def Resnet101V2(input_shape,layers_to_skip=None,weights=None,include_top=True):\n",
    "    \"\"\" Resnet50 with transfer learning. Using Keras built in function\"\"\"\n",
    "    model = applications.resnet_v2.ResNet101V2(weights = weights, include_top=include_top, input_shape = input_shape)\n",
    "    if layers_to_skip:\n",
    "        if weights==None:\n",
    "            print(\"ERROR: You cannot have weights as none if layers_to_skip is non-zero\")\n",
    "        else:\n",
    "            for layer in model.layers[:layers_to_skip]:\n",
    "                layer.trainable = False\n",
    "            #Adding custom Layers \n",
    "            x = model.output\n",
    "            x = Flatten()(x)\n",
    "            x = Dense(4096, activation=\"relu\")(x)\n",
    "            x = Dropout(0.5)(x)\n",
    "            x = Dense(4096, activation=\"relu\")(x)\n",
    "            x = Dropout(0.5)(x)\n",
    "    else:\n",
    "        x = model.output\n",
    "    \n",
    "    predictions = Dense(num_classes, activation=\"softmax\")(x)\n",
    "    adam_opt = Adam(lr=0.01)\n",
    "    rms_opt = RMSprop(lr=0.01)\n",
    "    sgd = SGD(lr=0.001, decay=1e-6, momentum=0.5, nesterov=True)\n",
    "    # creating the final model \n",
    "    model_final = Model(input = model.input, output = predictions)\n",
    "    #model.compile(loss=OrdinalLoss,optimizer = sgd, metrics = ['accuracy'])\n",
    "    model_final.compile(loss = 'binary_crossentropy', optimizer = sgd, metrics = ['accuracy'])\n",
    "    return model_final\n",
    "\n",
    "def Resnet50V2(input_shape,layers_to_skip=None,weights=None,include_top=True):\n",
    "    \"\"\" Resnet50 with transfer learning. Using Keras built in function\"\"\"\n",
    "    model = applications.resnet_v2.ResNet50V2(weights = weights, include_top=include_top, input_shape = input_shape)\n",
    "    if layers_to_skip:\n",
    "        if weights==None:\n",
    "            print(\"ERROR: You cannot have weights as none if layers_to_skip is non-zero\")\n",
    "        else:\n",
    "            for layer in model.layers[:layers_to_skip]:\n",
    "                layer.trainable = False\n",
    "            #Adding custom Layers \n",
    "            x = model.output\n",
    "            x = Flatten()(x)\n",
    "            x = Dense(4096, activation=\"relu\")(x)\n",
    "            x = Dropout(0.5)(x)\n",
    "            x = Dense(4096, activation=\"relu\")(x)\n",
    "            x = Dropout(0.5)(x)\n",
    "    else:\n",
    "        x = model.output\n",
    "    \n",
    "    predictions = Dense(num_classes, activation=\"softmax\")(x)\n",
    "    adam_opt = Adam(lr=0.01)\n",
    "    rms_opt = RMSprop(lr=0.01)\n",
    "    sgd = SGD(lr=0.001, decay=1e-6, momentum=0.5, nesterov=True)\n",
    "    # creating the final model \n",
    "    model_final = Model(input = model.input, output = predictions)\n",
    "    #model.compile(loss=OrdinalLoss,optimizer = sgd, metrics = ['accuracy'])\n",
    "    model_final.compile(loss = 'binary_crossentropy', optimizer = sgd, metrics = ['accuracy'])\n",
    "    return model_final\n",
    "\n",
    "def Resnetv1(input_shape,depth=50,layers_to_skip=None,weights=None,include_top=True):\n",
    "    \"\"\" Resnet50 with transfer learning. Using Keras built in function\"\"\"\n",
    "    \n",
    "    if depth==50:\n",
    "        model = applications.resnet50.ResNet50(weights = weights, include_top=include_top, input_shape = input_shape)\n",
    "    elif depth == 101:\n",
    "        model = applications.resnet101.ResNet101(weights = weights, include_top=include_top, input_shape = input_shape)\n",
    "    else:\n",
    "        model = applications.resnet152.ResNet152(weights = weights, include_top=include_top, input_shape = input_shape)\n",
    "        \n",
    "    if layers_to_skip:\n",
    "        if weights==None:\n",
    "            print(\"ERROR: You cannot have weights as none if layers_to_skip is non-zero\")\n",
    "        else:\n",
    "            for layer in model.layers[:layers_to_skip]:\n",
    "                layer.trainable = False\n",
    "            #Adding custom Layers \n",
    "            x = model.output\n",
    "            x = Flatten()(x)\n",
    "            x = Dense(4096, activation=\"relu\")(x)\n",
    "            x = Dropout(0.5)(x)\n",
    "            x = Dense(4096, activation=\"relu\")(x)\n",
    "            x = Dropout(0.5)(x)\n",
    "    else:\n",
    "        x = model.output\n",
    "    \n",
    "    predictions = Dense(num_classes, activation=\"softmax\")(x)\n",
    "    adam_opt = Adam(lr=0.01)\n",
    "    rms_opt = RMSprop(lr=0.01)\n",
    "    sgd = SGD(lr=0.001, decay=1e-6, momentum=0.5, nesterov=True)\n",
    "    # creating the final model \n",
    "    model_final = Model(input = model.input, output = predictions)\n",
    "    #model.compile(loss=OrdinalLoss,optimizer = sgd, metrics = ['accuracy'])\n",
    "    model_final.compile(loss = 'binary_crossentropy', optimizer = sgd, metrics = ['accuracy'])\n",
    "    return model_final\n",
    "\n",
    "def VGG_16_TL(input_shape,layers_to_skip=None,weights=None,include_top=True):\n",
    "    \"\"\" VGG 16 with Transfer Learning. Using Keras built in function\"\"\"\n",
    "    model = applications.VGG16(weights = weights, include_top=include_top, input_shape = input_shape)\n",
    "    if layers_to_skip:\n",
    "        if weights==None:\n",
    "            print(\"ERROR: You cannot have weights as none if layers_to_skip is non-zero\")\n",
    "        else:\n",
    "            for layer in model.layers[:layers_to_skip]:\n",
    "                layer.trainable = False\n",
    "            #Adding custom Layers \n",
    "            x = model.output\n",
    "            x = Flatten()(x)\n",
    "            x = Dense(4096, activation=\"relu\")(x)\n",
    "            x = Dropout(0.5)(x)\n",
    "            x = Dense(4096, activation=\"relu\")(x)\n",
    "            x = Dropout(0.5)(x)\n",
    "    else:\n",
    "        x = model.output\n",
    "    \n",
    "    predictions = Dense(num_classes, activation=\"softmax\")(x)\n",
    "    adam_opt = Adam(lr=0.01)\n",
    "    rms_opt = RMSprop(lr=0.01)\n",
    "    sgd = SGD(lr=0.001, decay=1e-6, momentum=0.5, nesterov=True)\n",
    "    # creating the final model \n",
    "    model_final = Model(input = model.input, output = predictions)\n",
    "    model_final.compile(loss = 'binary_crossentropy', optimizer = sgd, metrics = ['accuracy'])\n",
    "    return model_final\n",
    "\n",
    "def VGG_19_TL(input_shape,layers_to_skip=None,weights=None,include_top=True):\n",
    "    \"\"\" VGG 19 with Transfer Learning. Using Keras built in function\"\"\"\n",
    "    model = applications.VGG19(weights = weights, include_top=include_top, input_shape = input_shape)\n",
    "    if layers_to_skip:\n",
    "        if weights==None:\n",
    "            print(\"ERROR: You cannot have weights as none if layers_to_skip is non-zero\")\n",
    "        else:\n",
    "            for layer in model.layers[:layers_to_skip]:\n",
    "                layer.trainable = False\n",
    "            #Adding custom Layers \n",
    "            x = model.output\n",
    "            x = Flatten()(x)\n",
    "            x = Dense(4096, activation=\"relu\")(x)\n",
    "            x = Dropout(0.5)(x)\n",
    "            x = Dense(4096, activation=\"relu\")(x)\n",
    "            x = Dropout(0.5)(x)\n",
    "    else:\n",
    "        x = model.output\n",
    "    \n",
    "    predictions = Dense(num_classes, activation=\"softmax\")(x)\n",
    "    adam_opt = Adam(lr=0.01)\n",
    "    rms_opt = RMSprop(lr=0.01)\n",
    "    sgd = SGD(lr=0.001, decay=1e-6, momentum=0.5, nesterov=True)\n",
    "    # creating the final model \n",
    "    model_final = Model(input = model.input, output = predictions)\n",
    "    model_final.compile(loss = 'binary_crossentropy', optimizer = sgd, metrics = ['accuracy'])\n",
    "    return model_final\n",
    "\n",
    "def VGG_16(weights_path=None):\n",
    "    initializer = glorot_normal()\n",
    "    model = Sequential()\n",
    "    model.add(Conv2D(64, kernel_size=(3, 3),input_shape=(length,width,depth),\n",
    "                     activation='relu',kernel_initializer=initializer))\n",
    "    model.add(ZeroPadding2D((1,1)))\n",
    "    model.add(Conv2D(64, 3, 3, activation='relu',kernel_initializer=initializer))\n",
    "    model.add(MaxPooling2D((2,2), strides=(2,2)))\n",
    "\n",
    "    model.add(ZeroPadding2D((1,1)))\n",
    "    model.add(Conv2D(128, 3, 3, activation='relu',kernel_initializer=initializer))\n",
    "    model.add(ZeroPadding2D((1,1)))\n",
    "    model.add(Conv2D(128, 3, 3, activation='relu',kernel_initializer=initializer))\n",
    "    model.add(MaxPooling2D((2,2), strides=(2,2)))\n",
    "\n",
    "    model.add(ZeroPadding2D((1,1)))\n",
    "    model.add(Conv2D(256, 3, 3, activation='relu',kernel_initializer=initializer))\n",
    "    model.add(ZeroPadding2D((1,1)))\n",
    "    model.add(Conv2D(256, 3, 3, activation='relu',kernel_initializer=initializer))\n",
    "    model.add(ZeroPadding2D((1,1)))\n",
    "    model.add(Conv2D(256, 3, 3, activation='relu',kernel_initializer=initializer))\n",
    "    model.add(MaxPooling2D((2,2), strides=(2,2)))\n",
    "\n",
    "    model.add(ZeroPadding2D((1,1)))\n",
    "    model.add(Conv2D(512, 3, 3, activation='relu',kernel_initializer=initializer))\n",
    "    model.add(ZeroPadding2D((1,1)))\n",
    "    model.add(Conv2D(512, 3, 3, activation='relu',kernel_initializer=initializer))\n",
    "    model.add(ZeroPadding2D((1,1)))\n",
    "    model.add(Conv2D(512, 3, 3, activation='relu',kernel_initializer=initializer))\n",
    "    model.add(MaxPooling2D((2,2), strides=(2,2)))\n",
    "\n",
    "    model.add(ZeroPadding2D((1,1)))\n",
    "    model.add(Conv2D(512, 3, 3, activation='relu',kernel_initializer=initializer))\n",
    "    model.add(ZeroPadding2D((1,1)))\n",
    "    model.add(Conv2D(512, 3, 3, activation='relu',kernel_initializer=initializer))\n",
    "    model.add(ZeroPadding2D((1,1)))\n",
    "    model.add(Conv2D(512, 3, 3, activation='relu',kernel_initializer=initializer))\n",
    "    model.add(MaxPooling2D((2,2), strides=(2,2)))\n",
    "\n",
    "    model.add(Flatten())\n",
    "    model.add(Dense(4096, activation='relu',kernel_initializer=initializer))\n",
    "    model.add(Dropout(0.5))\n",
    "    model.add(Dense(4096, activation='relu',kernel_initializer=initializer))\n",
    "    model.add(Dropout(0.5))\n",
    "    model.add(Dense(num_classes, activation='softmax'))\n",
    "    adam_opt = Adam(lr=0.01)\n",
    "    rms_opt = RMSprop(lr=0.01)\n",
    "    sgd = SGD(lr=0.001, decay=1e-6, momentum=0.5, nesterov=True)\n",
    "    #x = model.output\n",
    "    #custom_loss = LossWrapper(train_out=x)\n",
    "    # compile model\n",
    "    model.compile(loss=OrdinalLoss,optimizer = sgd, metrics = ['accuracy'])\n",
    "    #model.compile(loss = 'binary_crossentropy', optimizer = sgd, metrics = ['accuracy'])\n",
    "    #print(model.summary())\n",
    "    return model\n",
    "\n",
    "def CNN_FF():\n",
    "    \"\"\" CNN with Feed Forward NN \"\"\"\n",
    "    model_conv = Sequential()\n",
    "    model_conv.add(Conv2D(32, kernel_size=(5, 5), \n",
    "                                          input_shape=(length,width,depth),activation='relu'))\n",
    "    model_conv.add(MaxPooling2D(pool_size=(2, 2)))\n",
    "    model_conv.add(Conv2D(64, (5, 5), activation='relu'))\n",
    "    model_conv.add(MaxPooling2D(pool_size=(2, 2)))\n",
    "    model_conv.add(Flatten())\n",
    "    model_conv.add(Dense(100))\n",
    "    model_conv.add(Dropout(0.1))\n",
    "    model_conv.add(Dense(num_classes, activation='softmax'))\n",
    "    sgd = SGD(lr=0.001, decay=1e-6, momentum=0.5, nesterov=True)\n",
    "    model_conv.compile(loss = 'binary_crossentropy', optimizer = sgd, metrics = ['accuracy'])\n",
    "    #print(model_conv.summary())\n",
    "    return model_conv\n",
    "\n",
    "\n",
    "def save_model(model,vgg=True):\n",
    "    # saving model\n",
    "    json_model = model.to_json()\n",
    "    # Get today's date. We will use this as string for filename\n",
    "    now = datetime.datetime.now()\n",
    "    day = str(now)[:10]\n",
    "    if vgg:\n",
    "        arch_name = 'model_architecture_vgg_'+day+'35K_aug'+'.json'\n",
    "        model_weights = 'model_weights_vgg_'+day+'35K_aug'+'.h5'\n",
    "    else:\n",
    "        arch_name = 'model_architecture_s_cnn'+day+'.json'\n",
    "        model_weights = 'model_weights_s_cnn'+day+'.h5'\n",
    "        \n",
    "    open(arch_name, 'w').write(json_model)\n",
    "    # saving weights\n",
    "    model.save_weights(model_weights, overwrite=True)\n",
    "\n",
    "def load_model(model_arch,model_weights):\n",
    "    # loading model\n",
    "    model = model_from_json(open(model_arch).read())\n",
    "    model.load_weights(model_weights)\n",
    "    model.compile(loss='binary_crossentropy', optimizer='adam')\n",
    "    return model"
   ]
  },
  {
   "cell_type": "markdown",
   "metadata": {},
   "source": [
    "## LOAD DATA"
   ]
  },
  {
   "cell_type": "code",
   "execution_count": 7,
   "metadata": {
    "scrolled": true
   },
   "outputs": [],
   "source": [
    "# Load the csv data\n",
    "orig_label = pd.read_csv(\"./Retinal-Images/trainLabels.csv\")\n",
    "# Load the test csv data\n",
    "test_label = pd.read_csv(\"./Retinal-Images/retinopathy_solution.csv\")\n",
    "test_label.drop('Usage',inplace=True,axis=1)"
   ]
  },
  {
   "cell_type": "code",
   "execution_count": 8,
   "metadata": {
    "scrolled": true
   },
   "outputs": [
    {
     "data": {
      "text/plain": [
       "image    35126\n",
       "level    35126\n",
       "dtype: int64"
      ]
     },
     "execution_count": 8,
     "metadata": {},
     "output_type": "execute_result"
    }
   ],
   "source": [
    "orig_label.count()"
   ]
  },
  {
   "cell_type": "code",
   "execution_count": 9,
   "metadata": {},
   "outputs": [
    {
     "data": {
      "text/plain": [
       "image    53576\n",
       "level    53576\n",
       "dtype: int64"
      ]
     },
     "execution_count": 9,
     "metadata": {},
     "output_type": "execute_result"
    }
   ],
   "source": [
    "test_label.count()"
   ]
  },
  {
   "cell_type": "code",
   "execution_count": 10,
   "metadata": {},
   "outputs": [
    {
     "data": {
      "text/html": [
       "<div>\n",
       "<style scoped>\n",
       "    .dataframe tbody tr th:only-of-type {\n",
       "        vertical-align: middle;\n",
       "    }\n",
       "\n",
       "    .dataframe tbody tr th {\n",
       "        vertical-align: top;\n",
       "    }\n",
       "\n",
       "    .dataframe thead th {\n",
       "        text-align: right;\n",
       "    }\n",
       "</style>\n",
       "<table border=\"1\" class=\"dataframe\">\n",
       "  <thead>\n",
       "    <tr style=\"text-align: right;\">\n",
       "      <th></th>\n",
       "      <th>image</th>\n",
       "    </tr>\n",
       "    <tr>\n",
       "      <th>level</th>\n",
       "      <th></th>\n",
       "    </tr>\n",
       "  </thead>\n",
       "  <tbody>\n",
       "    <tr>\n",
       "      <th>0</th>\n",
       "      <td>25810</td>\n",
       "    </tr>\n",
       "    <tr>\n",
       "      <th>1</th>\n",
       "      <td>2443</td>\n",
       "    </tr>\n",
       "    <tr>\n",
       "      <th>2</th>\n",
       "      <td>5292</td>\n",
       "    </tr>\n",
       "    <tr>\n",
       "      <th>3</th>\n",
       "      <td>873</td>\n",
       "    </tr>\n",
       "    <tr>\n",
       "      <th>4</th>\n",
       "      <td>708</td>\n",
       "    </tr>\n",
       "  </tbody>\n",
       "</table>\n",
       "</div>"
      ],
      "text/plain": [
       "       image\n",
       "level       \n",
       "0      25810\n",
       "1       2443\n",
       "2       5292\n",
       "3        873\n",
       "4        708"
      ]
     },
     "execution_count": 10,
     "metadata": {},
     "output_type": "execute_result"
    }
   ],
   "source": [
    "orig_label.groupby(['level']).count()"
   ]
  },
  {
   "cell_type": "code",
   "execution_count": 11,
   "metadata": {},
   "outputs": [
    {
     "data": {
      "text/html": [
       "<div>\n",
       "<style scoped>\n",
       "    .dataframe tbody tr th:only-of-type {\n",
       "        vertical-align: middle;\n",
       "    }\n",
       "\n",
       "    .dataframe tbody tr th {\n",
       "        vertical-align: top;\n",
       "    }\n",
       "\n",
       "    .dataframe thead th {\n",
       "        text-align: right;\n",
       "    }\n",
       "</style>\n",
       "<table border=\"1\" class=\"dataframe\">\n",
       "  <thead>\n",
       "    <tr style=\"text-align: right;\">\n",
       "      <th></th>\n",
       "      <th>image</th>\n",
       "    </tr>\n",
       "    <tr>\n",
       "      <th>level</th>\n",
       "      <th></th>\n",
       "    </tr>\n",
       "  </thead>\n",
       "  <tbody>\n",
       "    <tr>\n",
       "      <th>0</th>\n",
       "      <td>39533</td>\n",
       "    </tr>\n",
       "    <tr>\n",
       "      <th>1</th>\n",
       "      <td>3762</td>\n",
       "    </tr>\n",
       "    <tr>\n",
       "      <th>2</th>\n",
       "      <td>7861</td>\n",
       "    </tr>\n",
       "    <tr>\n",
       "      <th>3</th>\n",
       "      <td>1214</td>\n",
       "    </tr>\n",
       "    <tr>\n",
       "      <th>4</th>\n",
       "      <td>1206</td>\n",
       "    </tr>\n",
       "  </tbody>\n",
       "</table>\n",
       "</div>"
      ],
      "text/plain": [
       "       image\n",
       "level       \n",
       "0      39533\n",
       "1       3762\n",
       "2       7861\n",
       "3       1214\n",
       "4       1206"
      ]
     },
     "execution_count": 11,
     "metadata": {},
     "output_type": "execute_result"
    }
   ],
   "source": [
    "test_label.groupby(['level']).count()"
   ]
  },
  {
   "cell_type": "markdown",
   "metadata": {},
   "source": [
    "### DATA PREPERATION"
   ]
  },
  {
   "cell_type": "code",
   "execution_count": 12,
   "metadata": {
    "scrolled": true
   },
   "outputs": [
    {
     "data": {
      "text/plain": [
       "30126"
      ]
     },
     "execution_count": 12,
     "metadata": {},
     "output_type": "execute_result"
    }
   ],
   "source": [
    "l4_orig_df = orig_label[orig_label.level==4].sample(200,random_state=42)\n",
    "l3_orig_df = orig_label[orig_label.level==3].sample(500,random_state=42)\n",
    "l2_orig_df = orig_label[orig_label.level==2].sample(500,random_state=42)\n",
    "l1_orig_df = orig_label[orig_label.level==1].sample(500,random_state=42)\n",
    "l0_orig_df = orig_label[orig_label.level==0].sample(3300,random_state=42)\n",
    "rest_orig_df = pd.concat([orig_label, l4_orig_df,l3_orig_df,\n",
    "                          l2_orig_df,l1_orig_df,l0_orig_df]).drop_duplicates(keep=False)\n",
    "len(rest_orig_df)"
   ]
  },
  {
   "cell_type": "code",
   "execution_count": 13,
   "metadata": {},
   "outputs": [
    {
     "data": {
      "text/plain": [
       "48576"
      ]
     },
     "execution_count": 13,
     "metadata": {},
     "output_type": "execute_result"
    }
   ],
   "source": [
    "l4_test_df = test_label[test_label.level==4].sample(200,random_state=42)\n",
    "l3_test_df = test_label[test_label.level==3].sample(500,random_state=42)\n",
    "l2_test_df = test_label[test_label.level==2].sample(500,random_state=42)\n",
    "l1_test_df = test_label[test_label.level==1].sample(500,random_state=42)\n",
    "l0_test_df = test_label[test_label.level==0].sample(3300,random_state=42)\n",
    "rest_test_df = pd.concat([test_label, l4_test_df,l3_test_df,\n",
    "                          l2_test_df,l1_test_df,l0_test_df]).drop_duplicates(keep=False)\n",
    "len(rest_test_df)"
   ]
  },
  {
   "cell_type": "markdown",
   "metadata": {},
   "source": [
    "### Save the dataframes so that same sets can be loaded at a later point"
   ]
  },
  {
   "cell_type": "code",
   "execution_count": 14,
   "metadata": {},
   "outputs": [],
   "source": [
    "l4_orig_df.to_pickle(\"./l4_orig_df.pkl\")\n",
    "l3_orig_df.to_pickle(\"./l3_orig_df.pkl\")\n",
    "l2_orig_df.to_pickle(\"./l2_orig_df.pkl\")\n",
    "l2_orig_df.to_pickle(\"./l1_orig_df.pkl\")\n",
    "l0_orig_df.to_pickle(\"./l0_orig_df.pkl\")\n",
    "rest_orig_df.to_pickle(\"./rest_orig_df.pkl\")\n",
    "\n",
    "l4_test_df.to_pickle(\"./l4_test_df.pkl\")\n",
    "l3_test_df.to_pickle(\"./l3_test_df.pkl\")\n",
    "l2_test_df.to_pickle(\"./l2_test_df.pkl\")\n",
    "l2_test_df.to_pickle(\"./l1_test_df.pkl\")\n",
    "l0_test_df.to_pickle(\"./l0_test_df.pkl\")\n",
    "rest_test_df.to_pickle(\"./rest_test_df.pkl\")"
   ]
  },
  {
   "cell_type": "code",
   "execution_count": 15,
   "metadata": {},
   "outputs": [],
   "source": [
    "val_list = [l0_orig_df,l1_orig_df,l2_orig_df,l3_orig_df,l4_orig_df]\n",
    "test_list = [l0_test_df,l1_test_df,l2_test_df,l3_test_df,l4_test_df]\n",
    "train_list = [rest_orig_df,rest_test_df]"
   ]
  },
  {
   "cell_type": "code",
   "execution_count": 16,
   "metadata": {},
   "outputs": [
    {
     "data": {
      "text/plain": [
       "(5000,)"
      ]
     },
     "execution_count": 16,
     "metadata": {},
     "output_type": "execute_result"
    }
   ],
   "source": [
    "test_labels=list()\n",
    "test_labels.append(list(l0_test_df.level.values))\n",
    "test_labels.append(list(l1_test_df.level.values))\n",
    "test_labels.append(list(l2_test_df.level.values))\n",
    "test_labels.append(list(l3_test_df.level.values))\n",
    "test_labels.append(list(l4_test_df.level.values))\n",
    "test_labels = [item for sublist in test_labels for item in sublist]\n",
    "test_labels=np.asarray(test_labels)\n",
    "test_labels.shape"
   ]
  },
  {
   "cell_type": "code",
   "execution_count": 17,
   "metadata": {},
   "outputs": [
    {
     "data": {
      "text/plain": [
       "(5000,)"
      ]
     },
     "execution_count": 17,
     "metadata": {},
     "output_type": "execute_result"
    }
   ],
   "source": [
    "test_image_list=list()\n",
    "test_image_list.append(list(l0_test_df.image.values))\n",
    "test_image_list.append(list(l1_test_df.image.values))\n",
    "test_image_list.append(list(l2_test_df.image.values))\n",
    "test_image_list.append(list(l3_test_df.image.values))\n",
    "test_image_list.append(list(l4_test_df.image.values))\n",
    "test_image_list = [item for sublist in test_image_list for item in sublist]\n",
    "test_image_list=np.asarray(test_image_list)\n",
    "test_image_list.shape"
   ]
  },
  {
   "cell_type": "code",
   "execution_count": 18,
   "metadata": {},
   "outputs": [
    {
     "data": {
      "text/plain": [
       "(5000,)"
      ]
     },
     "execution_count": 18,
     "metadata": {},
     "output_type": "execute_result"
    }
   ],
   "source": [
    "val_labels=list()\n",
    "val_labels.append(list(l0_orig_df.level.values))\n",
    "val_labels.append(list(l1_orig_df.level.values))\n",
    "val_labels.append(list(l2_orig_df.level.values))\n",
    "val_labels.append(list(l3_orig_df.level.values))\n",
    "val_labels.append(list(l4_orig_df.level.values))\n",
    "val_labels = [item for sublist in val_labels for item in sublist]\n",
    "val_labels=np.asarray(val_labels)\n",
    "val_labels.shape"
   ]
  },
  {
   "cell_type": "code",
   "execution_count": 19,
   "metadata": {},
   "outputs": [
    {
     "data": {
      "text/plain": [
       "(5000,)"
      ]
     },
     "execution_count": 19,
     "metadata": {},
     "output_type": "execute_result"
    }
   ],
   "source": [
    "val_image_list=list()\n",
    "val_image_list.append(list(l0_orig_df.image.values))\n",
    "val_image_list.append(list(l1_orig_df.image.values))\n",
    "val_image_list.append(list(l2_orig_df.image.values))\n",
    "val_image_list.append(list(l3_orig_df.image.values))\n",
    "val_image_list.append(list(l4_orig_df.image.values))\n",
    "val_image_list = [item for sublist in val_image_list for item in sublist]\n",
    "val_image_list=np.asarray(val_image_list)\n",
    "val_image_list.shape"
   ]
  },
  {
   "cell_type": "code",
   "execution_count": 20,
   "metadata": {},
   "outputs": [
    {
     "data": {
      "text/plain": [
       "array([0, 0, 0, ..., 1, 1, 1])"
      ]
     },
     "execution_count": 20,
     "metadata": {},
     "output_type": "execute_result"
    }
   ],
   "source": [
    "true_test_labels = np.copy(test_labels)\n",
    "true_val_labels = np.copy(val_labels)\n",
    "test_labels[test_labels>0]=1\n",
    "val_labels[val_labels>0]=1\n",
    "test_labels"
   ]
  },
  {
   "cell_type": "code",
   "execution_count": 21,
   "metadata": {},
   "outputs": [
    {
     "data": {
      "text/plain": [
       "array([0, 0, 0, ..., 4, 4, 4])"
      ]
     },
     "execution_count": 21,
     "metadata": {},
     "output_type": "execute_result"
    }
   ],
   "source": [
    "true_test_labels"
   ]
  },
  {
   "cell_type": "code",
   "execution_count": 39,
   "metadata": {},
   "outputs": [],
   "source": [
    "# Copy train images\n",
    "# OVERSAMPLING LOGIC:\n",
    "# CLASS-1 IMAGES 10X\n",
    "# CLASS-2 IMAGES 5X\n",
    "# CLASS-3 IMAGES 10X\n",
    "# CLASS-4 IMAGES 10X\n",
    "\n",
    "# Set this if we are using binary classification\n",
    "binary_class = 1\n",
    "oversample = {0:1,1:4,2:2,3:14,4:10}\n",
    "#oversample = {0:1,1:10,2:5,3:30,4:25}\n",
    "\n",
    "for i in range(2):\n",
    "    if i==0:\n",
    "        image_dir = os.getcwd()+'/Retinal-Images/train_resize_224_new/'\n",
    "        for j in range(len(rest_orig_df)):        \n",
    "            image_class = rest_orig_df.iloc[[j],[1]].values[0][0]\n",
    "            image_name = rest_orig_df.iloc[[j],[0]].values[0][0]\n",
    "            image_loc = image_dir+image_name+'.png'\n",
    "            # Get the oversample percent for the given class\n",
    "            class_oversample = oversample[image_class]\n",
    "            image_class_str = image_class\n",
    "            if binary_class:\n",
    "                if image_class_str>0:\n",
    "                    image_class_str=1\n",
    "            for samples in range(class_oversample):\n",
    "                class_dir = 'class_'+str(image_class_str)\n",
    "                out_dir = os.getcwd()+'/Retinal-Images/train_new/'+class_dir+'/'\n",
    "                copy_loc = out_dir+image_name+'-'+str(samples)+'.png'\n",
    "                copyfile(image_loc,copy_loc)               \n",
    "    else:\n",
    "        image_dir = os.getcwd()+'/Retinal-Images/test_resize_224_new/'\n",
    "        for j in range(len(rest_test_df)):        \n",
    "            image_class = rest_test_df.iloc[[j],[1]].values[0][0]\n",
    "            image_name = rest_test_df.iloc[[j],[0]].values[0][0]\n",
    "            image_loc = image_dir+image_name+'.png'\n",
    "            # Get the oversample percent for the given class\n",
    "            class_oversample = oversample[image_class]\n",
    "            image_class_str = image_class\n",
    "            if binary_class:\n",
    "                if image_class_str>0:\n",
    "                    image_class_str=1\n",
    "            for samples in range(class_oversample):\n",
    "                class_dir = 'class_'+str(image_class_str)\n",
    "                out_dir = os.getcwd()+'/Retinal-Images/train_new/'+class_dir+'/'\n",
    "                copy_loc = out_dir+image_name+'-'+str(samples)+'.png'\n",
    "                copyfile(image_loc,copy_loc)               \n",
    "\n",
    "# Copy val images\n",
    "for df in val_list:\n",
    "    image_dir = os.getcwd()+'/Retinal-Images/train_resize_224_new/'\n",
    "    for j in range(len(df)):\n",
    "        image_class = df.iloc[[j],[1]].values[0][0]\n",
    "        image_name = df.iloc[[j],[0]].values[0][0]\n",
    "        image_loc = image_dir+image_name+'.png'\n",
    "        # Get the oversample percent for the given class\n",
    "        image_class_str = image_class\n",
    "        if binary_class:\n",
    "            if image_class_str>0:\n",
    "                image_class_str=1\n",
    "        class_dir = 'class_'+str(image_class_str)\n",
    "        out_dir = os.getcwd()+'/Retinal-Images/val/'+class_dir+'/'\n",
    "        copy_loc = out_dir+image_name+'.png'\n",
    "        copyfile(image_loc,copy_loc) \n",
    "\n",
    "# Copy test images\n",
    "for df in test_list:\n",
    "    image_dir = os.getcwd()+'/Retinal-Images/test_resize_224_new/'\n",
    "    for j in range(len(df)):\n",
    "        image_name = df.iloc[[j],[0]].values[0][0]\n",
    "        image_loc = image_dir+image_name+'.png'\n",
    "        out_dir = os.getcwd()+'/Retinal-Images/test_new/test/'\n",
    "        copy_loc = out_dir+image_name+'.png'\n",
    "        copyfile(image_loc,copy_loc)"
   ]
  },
  {
   "cell_type": "markdown",
   "metadata": {},
   "source": [
    "## TRAINING (SKIP THIS PART IF YOU HAVE SAVED MODEL)"
   ]
  },
  {
   "cell_type": "code",
   "execution_count": 22,
   "metadata": {},
   "outputs": [],
   "source": [
    "# Initialize parameters\n",
    "length = 224\n",
    "width = 224\n",
    "depth = 3\n",
    "num_classes = 2\n",
    "input_shape = (224,224,3)\n",
    "\n",
    "batch_size = 100"
   ]
  },
  {
   "cell_type": "code",
   "execution_count": 23,
   "metadata": {
    "scrolled": true
   },
   "outputs": [
    {
     "name": "stdout",
     "output_type": "stream",
     "text": [
      "Found 5000 images belonging to 1 classes.\n",
      "Found 134227 images belonging to 2 classes.\n",
      "Found 5000 images belonging to 2 classes.\n"
     ]
    }
   ],
   "source": [
    "val_datagen = ImageDataGenerator(rescale=1./255)\n",
    "test_datagen = ImageDataGenerator(rescale=1./255)\n",
    "test_generator = test_datagen.flow_from_directory(\n",
    "         'Retinal-Images/test_new',\n",
    "         target_size=(224, 224),\n",
    "         batch_size=batch_size)\n",
    "\n",
    "train_datagen = ImageDataGenerator(\n",
    "        rescale=1./255,\n",
    "        shear_range=0.2,\n",
    "        zoom_range=0.2)\n",
    "\n",
    "train_generator = train_datagen.flow_from_directory(\n",
    "        'Retinal-Images/train_new',\n",
    "        target_size=(224,224),\n",
    "        classes = ['class_0','class_1'],\n",
    "        batch_size=batch_size,\n",
    "        class_mode='categorical')\n",
    "\n",
    "validation_generator = val_datagen.flow_from_directory(\n",
    "         'Retinal-Images/val',\n",
    "         target_size=(224, 224),\n",
    "         classes = ['class_0','class_1'],\n",
    "         batch_size=batch_size,\n",
    "         class_mode='categorical')"
   ]
  },
  {
   "cell_type": "code",
   "execution_count": 24,
   "metadata": {},
   "outputs": [
    {
     "data": {
      "text/plain": [
       "(134227, 5000, 5000)"
      ]
     },
     "execution_count": 24,
     "metadata": {},
     "output_type": "execute_result"
    }
   ],
   "source": [
    "#n_train = len(rest_orig_df) + len(rest_test_df)\n",
    "# Finding n_train with oversampling needs better coding. Hardcode for now\n",
    "n_train = 134227\n",
    "n_val = 5000\n",
    "n_test = len(l0_test_df)+len(l1_test_df)+len(l2_test_df)+len(l3_test_df)+len(l4_test_df)\n",
    "n_train,n_val,n_test"
   ]
  },
  {
   "cell_type": "code",
   "execution_count": 25,
   "metadata": {},
   "outputs": [],
   "source": [
    "steps_per_epoch = int(n_train/batch_size)\n",
    "validation_steps = int(n_val/batch_size)\n",
    "test_steps = int(n_test/batch_size)"
   ]
  },
  {
   "cell_type": "code",
   "execution_count": 26,
   "metadata": {},
   "outputs": [
    {
     "data": {
      "text/plain": [
       "{'class_0': 0, 'class_1': 1}"
      ]
     },
     "execution_count": 26,
     "metadata": {},
     "output_type": "execute_result"
    }
   ],
   "source": [
    "train_generator.class_indices"
   ]
  },
  {
   "cell_type": "code",
   "execution_count": 27,
   "metadata": {},
   "outputs": [
    {
     "data": {
      "text/plain": [
       "array([1.14249357, 0.88910895])"
      ]
     },
     "execution_count": 27,
     "metadata": {},
     "output_type": "execute_result"
    }
   ],
   "source": [
    "from sklearn.utils import class_weight\n",
    "class_weights = class_weight.compute_class_weight(\n",
    "           'balanced',\n",
    "            np.unique(train_generator.classes), \n",
    "            train_generator.classes)\n",
    "class_weights"
   ]
  },
  {
   "cell_type": "code",
   "execution_count": 28,
   "metadata": {},
   "outputs": [],
   "source": [
    "callbacks = [ModelCheckpoint(filepath='best_model.h5', monitor='val_loss', save_best_only=True)]"
   ]
  },
  {
   "cell_type": "code",
   "execution_count": 29,
   "metadata": {
    "scrolled": true
   },
   "outputs": [
    {
     "name": "stdout",
     "output_type": "stream",
     "text": [
      "WARNING:tensorflow:From /usr/local/lib/python3.5/dist-packages/tensorflow/python/framework/op_def_library.py:263: colocate_with (from tensorflow.python.framework.ops) is deprecated and will be removed in a future version.\n",
      "Instructions for updating:\n",
      "Colocations handled automatically by placer.\n",
      "WARNING:tensorflow:From /usr/local/lib/python3.5/dist-packages/keras/backend/tensorflow_backend.py:3445: calling dropout (from tensorflow.python.ops.nn_ops) with keep_prob is deprecated and will be removed in a future version.\n",
      "Instructions for updating:\n",
      "Please use `rate` instead of `keep_prob`. Rate should be set to `rate = 1 - keep_prob`.\n",
      "_________________________________________________________________\n",
      "Layer (type)                 Output Shape              Param #   \n",
      "=================================================================\n",
      "input_1 (InputLayer)         (None, 224, 224, 3)       0         \n",
      "_________________________________________________________________\n",
      "block1_conv1 (Conv2D)        (None, 224, 224, 64)      1792      \n",
      "_________________________________________________________________\n",
      "block1_conv2 (Conv2D)        (None, 224, 224, 64)      36928     \n",
      "_________________________________________________________________\n",
      "block1_pool (MaxPooling2D)   (None, 112, 112, 64)      0         \n",
      "_________________________________________________________________\n",
      "block2_conv1 (Conv2D)        (None, 112, 112, 128)     73856     \n",
      "_________________________________________________________________\n",
      "block2_conv2 (Conv2D)        (None, 112, 112, 128)     147584    \n",
      "_________________________________________________________________\n",
      "block2_pool (MaxPooling2D)   (None, 56, 56, 128)       0         \n",
      "_________________________________________________________________\n",
      "block3_conv1 (Conv2D)        (None, 56, 56, 256)       295168    \n",
      "_________________________________________________________________\n",
      "block3_conv2 (Conv2D)        (None, 56, 56, 256)       590080    \n",
      "_________________________________________________________________\n",
      "block3_conv3 (Conv2D)        (None, 56, 56, 256)       590080    \n",
      "_________________________________________________________________\n",
      "block3_pool (MaxPooling2D)   (None, 28, 28, 256)       0         \n",
      "_________________________________________________________________\n",
      "block4_conv1 (Conv2D)        (None, 28, 28, 512)       1180160   \n",
      "_________________________________________________________________\n",
      "block4_conv2 (Conv2D)        (None, 28, 28, 512)       2359808   \n",
      "_________________________________________________________________\n",
      "block4_conv3 (Conv2D)        (None, 28, 28, 512)       2359808   \n",
      "_________________________________________________________________\n",
      "block4_pool (MaxPooling2D)   (None, 14, 14, 512)       0         \n",
      "_________________________________________________________________\n",
      "block5_conv1 (Conv2D)        (None, 14, 14, 512)       2359808   \n",
      "_________________________________________________________________\n",
      "block5_conv2 (Conv2D)        (None, 14, 14, 512)       2359808   \n",
      "_________________________________________________________________\n",
      "block5_conv3 (Conv2D)        (None, 14, 14, 512)       2359808   \n",
      "_________________________________________________________________\n",
      "block5_pool (MaxPooling2D)   (None, 7, 7, 512)         0         \n",
      "_________________________________________________________________\n",
      "flatten_1 (Flatten)          (None, 25088)             0         \n",
      "_________________________________________________________________\n",
      "dense_1 (Dense)              (None, 4096)              102764544 \n",
      "_________________________________________________________________\n",
      "dropout_1 (Dropout)          (None, 4096)              0         \n",
      "_________________________________________________________________\n",
      "dense_2 (Dense)              (None, 4096)              16781312  \n",
      "_________________________________________________________________\n",
      "dropout_2 (Dropout)          (None, 4096)              0         \n",
      "_________________________________________________________________\n",
      "dense_3 (Dense)              (None, 2)                 8194      \n",
      "=================================================================\n",
      "Total params: 134,268,738\n",
      "Trainable params: 134,008,578\n",
      "Non-trainable params: 260,160\n",
      "_________________________________________________________________\n",
      "None\n",
      "WARNING:tensorflow:From /usr/local/lib/python3.5/dist-packages/tensorflow/python/ops/math_ops.py:3066: to_int32 (from tensorflow.python.ops.math_ops) is deprecated and will be removed in a future version.\n",
      "Instructions for updating:\n",
      "Use tf.cast instead.\n"
     ]
    },
    {
     "name": "stderr",
     "output_type": "stream",
     "text": [
      "/usr/local/lib/python3.5/dist-packages/ipykernel_launcher.py:148: UserWarning: Update your `Model` call to the Keras 2 API: `Model(outputs=Tensor(\"de..., inputs=Tensor(\"in...)`\n",
      "/usr/local/lib/python3.5/dist-packages/ipykernel_launcher.py:10: UserWarning: The semantics of the Keras 2 argument `steps_per_epoch` is not the same as the Keras 1 argument `samples_per_epoch`. `steps_per_epoch` is the number of batches to draw from the generator at each epoch. Basically steps_per_epoch = samples_per_epoch/batch_size. Similarly `nb_val_samples`->`validation_steps` and `val_samples`->`steps` arguments have changed. Update your method calls accordingly.\n",
      "  # Remove the CWD from sys.path while we load stuff.\n",
      "/usr/local/lib/python3.5/dist-packages/ipykernel_launcher.py:10: UserWarning: Update your `fit_generator` call to the Keras 2 API: `fit_generator(<keras_pre..., steps_per_epoch=1342, epochs=50, validation_steps=50, callbacks=[<keras.ca..., validation_data=<keras_pre...)`\n",
      "  # Remove the CWD from sys.path while we load stuff.\n"
     ]
    },
    {
     "name": "stdout",
     "output_type": "stream",
     "text": [
      "Epoch 1/50\n",
      "1342/1342 [==============================] - 1772s 1s/step - loss: 0.6915 - acc: 0.5562 - val_loss: 0.7145 - val_acc: 0.3428\n",
      "Epoch 2/50\n",
      "1342/1342 [==============================] - 1769s 1s/step - loss: 0.6772 - acc: 0.5712 - val_loss: 0.6797 - val_acc: 0.5752\n",
      "Epoch 3/50\n",
      "1342/1342 [==============================] - 1728s 1s/step - loss: 0.6578 - acc: 0.6049 - val_loss: 0.6517 - val_acc: 0.6382\n",
      "Epoch 4/50\n",
      "1342/1342 [==============================] - 1755s 1s/step - loss: 0.6141 - acc: 0.6499 - val_loss: 0.5641 - val_acc: 0.7378\n",
      "Epoch 5/50\n",
      "1342/1342 [==============================] - 1692s 1s/step - loss: 0.5766 - acc: 0.6821 - val_loss: 0.5468 - val_acc: 0.7608\n",
      "Epoch 6/50\n",
      "1342/1342 [==============================] - 1649s 1s/step - loss: 0.5539 - acc: 0.6990 - val_loss: 0.5354 - val_acc: 0.7492\n",
      "Epoch 7/50\n",
      "1342/1342 [==============================] - 1662s 1s/step - loss: 0.5363 - acc: 0.7124 - val_loss: 0.4904 - val_acc: 0.7820\n",
      "Epoch 8/50\n",
      "1342/1342 [==============================] - 1733s 1s/step - loss: 0.5218 - acc: 0.7228 - val_loss: 0.5317 - val_acc: 0.7520\n",
      "Epoch 9/50\n",
      "1342/1342 [==============================] - 1712s 1s/step - loss: 0.5114 - acc: 0.7301 - val_loss: 0.4716 - val_acc: 0.7930\n",
      "Epoch 10/50\n",
      "1342/1342 [==============================] - 1685s 1s/step - loss: 0.5013 - acc: 0.7378 - val_loss: 0.5203 - val_acc: 0.7570\n",
      "Epoch 11/50\n",
      "1342/1342 [==============================] - 1721s 1s/step - loss: 0.4927 - acc: 0.7448 - val_loss: 0.4739 - val_acc: 0.7906\n",
      "Epoch 12/50\n",
      "1342/1342 [==============================] - 1764s 1s/step - loss: 0.4843 - acc: 0.7509 - val_loss: 0.5010 - val_acc: 0.7684\n",
      "Epoch 13/50\n",
      "1342/1342 [==============================] - 1685s 1s/step - loss: 0.4759 - acc: 0.7563 - val_loss: 0.4797 - val_acc: 0.7828\n",
      "Epoch 14/50\n",
      "1342/1342 [==============================] - 1694s 1s/step - loss: 0.4693 - acc: 0.7616 - val_loss: 0.4805 - val_acc: 0.7848\n",
      "Epoch 15/50\n",
      "1342/1342 [==============================] - 1685s 1s/step - loss: 0.4610 - acc: 0.7673 - val_loss: 0.4652 - val_acc: 0.7914\n",
      "Epoch 16/50\n",
      "1342/1342 [==============================] - 1648s 1s/step - loss: 0.4542 - acc: 0.7719 - val_loss: 0.4379 - val_acc: 0.8102\n",
      "Epoch 17/50\n",
      "1342/1342 [==============================] - 1647s 1s/step - loss: 0.4465 - acc: 0.7770 - val_loss: 0.4317 - val_acc: 0.8116\n",
      "Epoch 18/50\n",
      "1342/1342 [==============================] - 1645s 1s/step - loss: 0.4399 - acc: 0.7823 - val_loss: 0.5132 - val_acc: 0.7512\n",
      "Epoch 19/50\n",
      "1342/1342 [==============================] - 1644s 1s/step - loss: 0.4336 - acc: 0.7861 - val_loss: 0.4354 - val_acc: 0.8082\n",
      "Epoch 20/50\n",
      "1342/1342 [==============================] - 1645s 1s/step - loss: 0.4263 - acc: 0.7911 - val_loss: 0.6668 - val_acc: 0.6690\n",
      "Epoch 21/50\n",
      "1342/1342 [==============================] - 1642s 1s/step - loss: 0.4184 - acc: 0.7975 - val_loss: 0.4505 - val_acc: 0.7982\n",
      "Epoch 22/50\n",
      "1342/1342 [==============================] - 1648s 1s/step - loss: 0.4099 - acc: 0.8018 - val_loss: 0.4383 - val_acc: 0.8066\n",
      "Epoch 23/50\n",
      "1342/1342 [==============================] - 1725s 1s/step - loss: 0.4018 - acc: 0.8064 - val_loss: 0.4357 - val_acc: 0.8116\n",
      "Epoch 24/50\n",
      "1342/1342 [==============================] - 1607s 1s/step - loss: 0.3958 - acc: 0.8109 - val_loss: 0.5538 - val_acc: 0.7368\n",
      "Epoch 25/50\n",
      "1342/1342 [==============================] - 1618s 1s/step - loss: 0.3837 - acc: 0.8183 - val_loss: 0.5715 - val_acc: 0.7410\n",
      "Epoch 26/50\n",
      "1342/1342 [==============================] - 1678s 1s/step - loss: 0.3771 - acc: 0.8235 - val_loss: 0.4426 - val_acc: 0.8150\n",
      "Epoch 27/50\n",
      "1342/1342 [==============================] - 1589s 1s/step - loss: 0.3680 - acc: 0.8284 - val_loss: 0.4637 - val_acc: 0.7918\n",
      "Epoch 28/50\n",
      "1342/1342 [==============================] - 1594s 1s/step - loss: 0.3583 - acc: 0.8347 - val_loss: 0.4887 - val_acc: 0.7820\n",
      "Epoch 29/50\n",
      "1342/1342 [==============================] - 1597s 1s/step - loss: 0.3479 - acc: 0.8405 - val_loss: 0.4787 - val_acc: 0.7796\n",
      "Epoch 30/50\n",
      "1342/1342 [==============================] - 1729s 1s/step - loss: 0.3372 - acc: 0.8464 - val_loss: 0.4943 - val_acc: 0.7778\n",
      "Epoch 31/50\n",
      "1342/1342 [==============================] - 1612s 1s/step - loss: 0.3253 - acc: 0.8533 - val_loss: 0.5556 - val_acc: 0.7476\n",
      "Epoch 32/50\n",
      "1342/1342 [==============================] - 1600s 1s/step - loss: 0.3152 - acc: 0.8584 - val_loss: 0.5245 - val_acc: 0.7736\n",
      "Epoch 33/50\n",
      "1342/1342 [==============================] - 1597s 1s/step - loss: 0.3017 - acc: 0.8669 - val_loss: 0.5487 - val_acc: 0.8118\n",
      "Epoch 34/50\n",
      "1342/1342 [==============================] - 1656s 1s/step - loss: 0.2914 - acc: 0.8710 - val_loss: 0.5111 - val_acc: 0.8030\n",
      "Epoch 35/50\n",
      "1342/1342 [==============================] - 1689s 1s/step - loss: 0.2755 - acc: 0.8798 - val_loss: 0.5551 - val_acc: 0.7810\n",
      "Epoch 36/50\n",
      "1342/1342 [==============================] - 1601s 1s/step - loss: 0.2627 - acc: 0.8876 - val_loss: 0.6074 - val_acc: 0.7580\n",
      "Epoch 37/50\n",
      "1342/1342 [==============================] - 1604s 1s/step - loss: 0.2494 - acc: 0.8941 - val_loss: 0.5535 - val_acc: 0.7988\n",
      "Epoch 38/50\n",
      "1342/1342 [==============================] - 1604s 1s/step - loss: 0.2349 - acc: 0.9008 - val_loss: 0.5909 - val_acc: 0.7862\n",
      "Epoch 39/50\n",
      "1342/1342 [==============================] - 1703s 1s/step - loss: 0.2214 - acc: 0.9067 - val_loss: 0.6276 - val_acc: 0.7902\n",
      "Epoch 40/50\n",
      "1342/1342 [==============================] - 1596s 1s/step - loss: 0.2092 - acc: 0.9124 - val_loss: 0.6058 - val_acc: 0.7798\n",
      "Epoch 41/50\n",
      "1342/1342 [==============================] - 1634s 1s/step - loss: 0.1959 - acc: 0.9196 - val_loss: 0.9127 - val_acc: 0.6546\n",
      "Epoch 42/50\n",
      "1342/1342 [==============================] - 1619s 1s/step - loss: 0.1809 - acc: 0.9265 - val_loss: 0.7536 - val_acc: 0.8080\n",
      "Epoch 43/50\n",
      "1342/1342 [==============================] - 1594s 1s/step - loss: 0.1699 - acc: 0.9314 - val_loss: 0.7253 - val_acc: 0.7722\n",
      "Epoch 44/50\n",
      "1342/1342 [==============================] - 1640s 1s/step - loss: 0.1598 - acc: 0.9352 - val_loss: 0.7159 - val_acc: 0.7716\n",
      "Epoch 45/50\n",
      "1342/1342 [==============================] - 1630s 1s/step - loss: 0.1472 - acc: 0.9412 - val_loss: 0.8016 - val_acc: 0.7972\n",
      "Epoch 46/50\n",
      "1342/1342 [==============================] - 1623s 1s/step - loss: 0.1374 - acc: 0.9460 - val_loss: 0.7695 - val_acc: 0.7844\n",
      "Epoch 47/50\n",
      "1342/1342 [==============================] - 1633s 1s/step - loss: 0.1246 - acc: 0.9516 - val_loss: 0.9055 - val_acc: 0.7284\n",
      "Epoch 48/50\n",
      "1342/1342 [==============================] - 1618s 1s/step - loss: 0.1167 - acc: 0.9545 - val_loss: 0.8586 - val_acc: 0.7736\n",
      "Epoch 49/50\n",
      "1342/1342 [==============================] - 1597s 1s/step - loss: 0.1059 - acc: 0.9582 - val_loss: 0.9183 - val_acc: 0.7280\n",
      "Epoch 50/50\n",
      "1342/1342 [==============================] - 1596s 1s/step - loss: 0.1002 - acc: 0.9615 - val_loss: 0.8829 - val_acc: 0.7966\n"
     ]
    }
   ],
   "source": [
    "#model = Resnetv1(input_shape)\n",
    "model = VGG_16_TL(input_shape,layers_to_skip=7,weights=\"imagenet\",include_top=False)\n",
    "#model = VGG_16()\n",
    "print(model.summary())\n",
    "H=model.fit_generator(\n",
    "        train_generator,\n",
    "        callbacks=callbacks,\n",
    "        validation_data=validation_generator,\n",
    "        nb_epoch=50,steps_per_epoch=steps_per_epoch,\n",
    "        validation_steps=validation_steps)"
   ]
  },
  {
   "cell_type": "code",
   "execution_count": 30,
   "metadata": {
    "scrolled": true
   },
   "outputs": [],
   "source": [
    "save_model(model)"
   ]
  },
  {
   "cell_type": "code",
   "execution_count": 31,
   "metadata": {},
   "outputs": [],
   "source": [
    "def calc_proba_list(model,imageList,val=0,scale=224):\n",
    "    image_class_proba_list = []\n",
    "    for image in imageList:\n",
    "        if val==1:\n",
    "            image_loc = './Retinal-Images/train_resize_224_new/' + image + '.png'\n",
    "        else:\n",
    "            image_loc = './Retinal-Images/test_resize_224_new/' + image + '.png'\n",
    "        image_test = cv2.imread(image_loc)\n",
    "        image_test_mod = preprocess(image_test,scale=scale)\n",
    "        image_test_pp_mod = np.expand_dims(image_test_mod,0)\n",
    "        image_class_proba = model.predict(image_test_pp_mod).flatten()\n",
    "        image_class_proba_list.append(image_class_proba)\n",
    "    return image_class_proba_list\n",
    "\n",
    "def get_pred_df(image_class_proba_list):\n",
    "    \"\"\" Returns predicted class dataframe\"\"\"\n",
    "    image_class_proba_arr = np.vstack(image_class_proba_list)\n",
    "    image_class_arr = np.argmax(image_class_proba_arr,axis=1)\n",
    "    df_pred_class = pd.DataFrame(test_image_list,columns=['Image'])\n",
    "    df_pred_class['Actual'] = test_labels\n",
    "    df_pred_class['Pred'] = image_class_arr\n",
    "    df_pred_class['True_Label'] = true_test_labels\n",
    "    df_pred_class['DR_Positive_Proba'] = image_class_proba_arr[:,1]\n",
    "    \n",
    "    return df_pred_class"
   ]
  },
  {
   "cell_type": "markdown",
   "metadata": {},
   "source": [
    "## Prediction without using generator"
   ]
  },
  {
   "cell_type": "code",
   "execution_count": 32,
   "metadata": {},
   "outputs": [
    {
     "data": {
      "text/plain": [
       "5000"
      ]
     },
     "execution_count": 32,
     "metadata": {},
     "output_type": "execute_result"
    }
   ],
   "source": [
    "testList = list(test_image_list)\n",
    "valList = list(val_image_list)\n",
    "len(testList)"
   ]
  },
  {
   "cell_type": "code",
   "execution_count": 33,
   "metadata": {},
   "outputs": [],
   "source": [
    "# Process each image one at a time for test data\n",
    "image_class_proba_list = calc_proba_list(model,testList)\n",
    "df_pred_class = get_pred_df(image_class_proba_list)\n",
    "df_class_tp = df_pred_class[(df_pred_class.Pred>0)&(df_pred_class.Actual==df_pred_class.Pred)]\n",
    "df_class_tn = df_pred_class[(df_pred_class.Pred==0)&(df_pred_class.Actual==df_pred_class.Pred)]\n",
    "df_class_fp = df_pred_class[(df_pred_class.Pred>0)&(df_pred_class.Actual!=df_pred_class.Pred)]\n",
    "df_class_fn = df_pred_class[(df_pred_class.Pred==0)&(df_pred_class.Actual!=df_pred_class.Pred)]"
   ]
  },
  {
   "cell_type": "code",
   "execution_count": 34,
   "metadata": {},
   "outputs": [
    {
     "name": "stdout",
     "output_type": "stream",
     "text": [
      "TN: 3105,FP: 195, FN: 1071, TP:629\n"
     ]
    },
    {
     "data": {
      "text/plain": [
       "<matplotlib.axes._subplots.AxesSubplot at 0x7fd7ac482390>"
      ]
     },
     "execution_count": 34,
     "metadata": {},
     "output_type": "execute_result"
    },
    {
     "data": {
      "image/png": "[encoded data removed]",
      "text/plain": [
       "<Figure size 720x504 with 2 Axes>"
      ]
     },
     "metadata": {},
     "output_type": "display_data"
    }
   ],
   "source": [
    "image_class_proba_arr = np.vstack(image_class_proba_list)\n",
    "image_class_arr = np.argmax(image_class_proba_arr,axis=1)\n",
    "\n",
    "cnf = confusion_matrix(test_labels, image_class_arr)\n",
    "tn,fp,fn,tp = cnf.ravel()\n",
    "print(\"TN: {},FP: {}, FN: {}, TP:{}\".format(tn,fp,fn,tp))\n",
    "df_cm = pd.DataFrame(cnf, index = [i for i in range(2)],\n",
    "                  columns = [i for i in range(2)])\n",
    "plt.figure(figsize = (10,7))\n",
    "sn.heatmap(df_cm, annot=True,cmap=\"YlGnBu\",fmt='g')"
   ]
  },
  {
   "cell_type": "code",
   "execution_count": 35,
   "metadata": {},
   "outputs": [
    {
     "data": {
      "text/html": [
       "<div>\n",
       "<style scoped>\n",
       "    .dataframe tbody tr th:only-of-type {\n",
       "        vertical-align: middle;\n",
       "    }\n",
       "\n",
       "    .dataframe tbody tr th {\n",
       "        vertical-align: top;\n",
       "    }\n",
       "\n",
       "    .dataframe thead th {\n",
       "        text-align: right;\n",
       "    }\n",
       "</style>\n",
       "<table border=\"1\" class=\"dataframe\">\n",
       "  <thead>\n",
       "    <tr style=\"text-align: right;\">\n",
       "      <th></th>\n",
       "      <th>Image</th>\n",
       "      <th>Actual</th>\n",
       "      <th>True_Label</th>\n",
       "      <th>DR_Positive_Proba</th>\n",
       "    </tr>\n",
       "    <tr>\n",
       "      <th>Pred</th>\n",
       "      <th></th>\n",
       "      <th></th>\n",
       "      <th></th>\n",
       "      <th></th>\n",
       "    </tr>\n",
       "  </thead>\n",
       "  <tbody>\n",
       "    <tr>\n",
       "      <th>0</th>\n",
       "      <td>4176</td>\n",
       "      <td>4176</td>\n",
       "      <td>4176</td>\n",
       "      <td>4176</td>\n",
       "    </tr>\n",
       "    <tr>\n",
       "      <th>1</th>\n",
       "      <td>824</td>\n",
       "      <td>824</td>\n",
       "      <td>824</td>\n",
       "      <td>824</td>\n",
       "    </tr>\n",
       "  </tbody>\n",
       "</table>\n",
       "</div>"
      ],
      "text/plain": [
       "      Image  Actual  True_Label  DR_Positive_Proba\n",
       "Pred                                              \n",
       "0      4176    4176        4176               4176\n",
       "1       824     824         824                824"
      ]
     },
     "execution_count": 35,
     "metadata": {},
     "output_type": "execute_result"
    }
   ],
   "source": [
    "df_pred_class.groupby(['Pred']).count()"
   ]
  },
  {
   "cell_type": "code",
   "execution_count": 36,
   "metadata": {},
   "outputs": [],
   "source": [
    "val_image_class_proba_list = calc_proba_list(model,valList,val=1)\n",
    "df_pred_val_class = get_pred_df(image_class_proba_list)\n",
    "df_val_class_tp = df_pred_val_class[(df_pred_val_class.Pred>0)&(df_pred_val_class.Actual==df_pred_val_class.Pred)]\n",
    "df_val_class_tn = df_pred_val_class[(df_pred_val_class.Pred==0)&(df_pred_val_class.Actual==df_pred_val_class.Pred)]\n",
    "df_val_class_fp = df_pred_val_class[(df_pred_val_class.Pred>0)&(df_pred_val_class.Actual!=df_pred_val_class.Pred)]\n",
    "df_val_class_fn = df_pred_val_class[(df_pred_val_class.Pred==0)&(df_pred_val_class.Actual!=df_pred_val_class.Pred)]"
   ]
  },
  {
   "cell_type": "code",
   "execution_count": 37,
   "metadata": {},
   "outputs": [
    {
     "name": "stdout",
     "output_type": "stream",
     "text": [
      "TN: 3118,FP: 182, FN: 1115, TP:585\n"
     ]
    },
    {
     "data": {
      "text/plain": [
       "<matplotlib.axes._subplots.AxesSubplot at 0x7fd7f4411a90>"
      ]
     },
     "execution_count": 37,
     "metadata": {},
     "output_type": "execute_result"
    },
    {
     "data": {
      "image/png": "[encoded data removed]",
      "text/plain": [
       "<Figure size 720x504 with 2 Axes>"
      ]
     },
     "metadata": {},
     "output_type": "display_data"
    }
   ],
   "source": [
    "val_image_class_proba_arr = np.vstack(val_image_class_proba_list)\n",
    "val_image_class_arr = np.argmax(val_image_class_proba_arr,axis=1)\n",
    "\n",
    "cnf_val = confusion_matrix(val_labels, val_image_class_arr)\n",
    "tn,fp,fn,tp = cnf_val.ravel()\n",
    "print(\"TN: {},FP: {}, FN: {}, TP:{}\".format(tn,fp,fn,tp))\n",
    "df_cm = pd.DataFrame(cnf_val, index = [i for i in range(2)],\n",
    "                  columns = [i for i in range(2)])\n",
    "plt.figure(figsize = (10,7))\n",
    "sn.heatmap(df_cm, annot=True,cmap=\"YlGnBu\",fmt='g')"
   ]
  },
  {
   "cell_type": "markdown",
   "metadata": {},
   "source": [
    "## Load the best model and repeat"
   ]
  },
  {
   "cell_type": "code",
   "execution_count": 38,
   "metadata": {},
   "outputs": [],
   "source": [
    "model_vgg = load_model('./model_architecture_vgg_2019-04-0135K_aug.json',\n",
    "                           './best_model.h5')"
   ]
  },
  {
   "cell_type": "code",
   "execution_count": 39,
   "metadata": {},
   "outputs": [],
   "source": [
    "image_class_proba_list = calc_proba_list(model_vgg,testList)\n",
    "df_pred_class = get_pred_df(image_class_proba_list)\n",
    "df_class_tp = df_pred_class[(df_pred_class.Pred>0)&(df_pred_class.Actual==df_pred_class.Pred)]\n",
    "df_class_tn = df_pred_class[(df_pred_class.Pred==0)&(df_pred_class.Actual==df_pred_class.Pred)]\n",
    "df_class_fp = df_pred_class[(df_pred_class.Pred>0)&(df_pred_class.Actual!=df_pred_class.Pred)]\n",
    "df_class_fn = df_pred_class[(df_pred_class.Pred==0)&(df_pred_class.Actual!=df_pred_class.Pred)]"
   ]
  },
  {
   "cell_type": "code",
   "execution_count": 40,
   "metadata": {},
   "outputs": [
    {
     "name": "stdout",
     "output_type": "stream",
     "text": [
      "TN: 3194,FP: 106, FN: 986, TP:714\n"
     ]
    },
    {
     "data": {
      "text/plain": [
       "<matplotlib.axes._subplots.AxesSubplot at 0x7fd7c0560438>"
      ]
     },
     "execution_count": 40,
     "metadata": {},
     "output_type": "execute_result"
    },
    {
     "data": {
      "image/png": "[encoded data removed]",
      "text/plain": [
       "<Figure size 720x504 with 2 Axes>"
      ]
     },
     "metadata": {},
     "output_type": "display_data"
    }
   ],
   "source": [
    "image_class_proba_arr = np.vstack(image_class_proba_list)\n",
    "image_class_arr = np.argmax(image_class_proba_arr,axis=1)\n",
    "\n",
    "cnf = confusion_matrix(test_labels, image_class_arr)\n",
    "tn,fp,fn,tp = cnf.ravel()\n",
    "print(\"TN: {},FP: {}, FN: {}, TP:{}\".format(tn,fp,fn,tp))\n",
    "df_cm = pd.DataFrame(cnf, index = [i for i in range(2)],\n",
    "                  columns = [i for i in range(2)])\n",
    "plt.figure(figsize = (10,7))\n",
    "sn.heatmap(df_cm, annot=True,cmap=\"YlGnBu\",fmt='g')"
   ]
  },
  {
   "cell_type": "markdown",
   "metadata": {},
   "source": [
    "### Run with last epoch instead of best model"
   ]
  },
  {
   "cell_type": "code",
   "execution_count": 41,
   "metadata": {},
   "outputs": [],
   "source": [
    "model_vgg = load_model('./model_architecture_vgg_2019-04-0135K_aug.json',\n",
    "                           './model_weights_vgg_2019-04-0135K_aug.h5')"
   ]
  },
  {
   "cell_type": "code",
   "execution_count": 42,
   "metadata": {},
   "outputs": [],
   "source": [
    "image_class_proba_list = calc_proba_list(model_vgg,testList)\n",
    "df_pred_class = get_pred_df(image_class_proba_list)\n",
    "df_class_tp = df_pred_class[(df_pred_class.Pred>0)&(df_pred_class.Actual==df_pred_class.Pred)]\n",
    "df_class_tn = df_pred_class[(df_pred_class.Pred==0)&(df_pred_class.Actual==df_pred_class.Pred)]\n",
    "df_class_fp = df_pred_class[(df_pred_class.Pred>0)&(df_pred_class.Actual!=df_pred_class.Pred)]\n",
    "df_class_fn = df_pred_class[(df_pred_class.Pred==0)&(df_pred_class.Actual!=df_pred_class.Pred)]"
   ]
  },
  {
   "cell_type": "code",
   "execution_count": 43,
   "metadata": {},
   "outputs": [
    {
     "name": "stdout",
     "output_type": "stream",
     "text": [
      "TN: 3105,FP: 195, FN: 1071, TP:629\n"
     ]
    },
    {
     "data": {
      "text/plain": [
       "<matplotlib.axes._subplots.AxesSubplot at 0x7fd7ac7d3be0>"
      ]
     },
     "execution_count": 43,
     "metadata": {},
     "output_type": "execute_result"
    },
    {
     "data": {
      "image/png": "[encoded data removed]",
      "text/plain": [
       "<Figure size 720x504 with 2 Axes>"
      ]
     },
     "metadata": {},
     "output_type": "display_data"
    }
   ],
   "source": [
    "image_class_proba_arr = np.vstack(image_class_proba_list)\n",
    "image_class_arr = np.argmax(image_class_proba_arr,axis=1)\n",
    "\n",
    "cnf = confusion_matrix(test_labels, image_class_arr)\n",
    "tn,fp,fn,tp = cnf.ravel()\n",
    "print(\"TN: {},FP: {}, FN: {}, TP:{}\".format(tn,fp,fn,tp))\n",
    "df_cm = pd.DataFrame(cnf, index = [i for i in range(2)],\n",
    "                  columns = [i for i in range(2)])\n",
    "plt.figure(figsize = (10,7))\n",
    "sn.heatmap(df_cm, annot=True,cmap=\"YlGnBu\",fmt='g')"
   ]
  },
  {
   "cell_type": "code",
   "execution_count": 44,
   "metadata": {},
   "outputs": [],
   "source": [
    "val_image_class_proba_list = calc_proba_list(model,valList,val=1)\n",
    "df_pred_val_class = get_pred_df(image_class_proba_list)\n",
    "df_val_class_tp = df_pred_val_class[(df_pred_val_class.Pred>0)&(df_pred_val_class.Actual==df_pred_val_class.Pred)]\n",
    "df_val_class_tn = df_pred_val_class[(df_pred_val_class.Pred==0)&(df_pred_val_class.Actual==df_pred_val_class.Pred)]\n",
    "df_val_class_fp = df_pred_val_class[(df_pred_val_class.Pred>0)&(df_pred_val_class.Actual!=df_pred_val_class.Pred)]\n",
    "df_val_class_fn = df_pred_val_class[(df_pred_val_class.Pred==0)&(df_pred_val_class.Actual!=df_pred_val_class.Pred)]"
   ]
  },
  {
   "cell_type": "code",
   "execution_count": 45,
   "metadata": {},
   "outputs": [
    {
     "name": "stdout",
     "output_type": "stream",
     "text": [
      "TN: 3118,FP: 182, FN: 1115, TP:585\n"
     ]
    },
    {
     "data": {
      "text/plain": [
       "<matplotlib.axes._subplots.AxesSubplot at 0x7fd7f4437630>"
      ]
     },
     "execution_count": 45,
     "metadata": {},
     "output_type": "execute_result"
    },
    {
     "data": {
      "image/png": "[encoded data removed]",
      "text/plain": [
       "<Figure size 720x504 with 2 Axes>"
      ]
     },
     "metadata": {},
     "output_type": "display_data"
    }
   ],
   "source": [
    "val_image_class_proba_arr = np.vstack(val_image_class_proba_list)\n",
    "val_image_class_arr = np.argmax(val_image_class_proba_arr,axis=1)\n",
    "\n",
    "cnf_val = confusion_matrix(val_labels, val_image_class_arr)\n",
    "tn,fp,fn,tp = cnf_val.ravel()\n",
    "print(\"TN: {},FP: {}, FN: {}, TP:{}\".format(tn,fp,fn,tp))\n",
    "df_cm = pd.DataFrame(cnf_val, index = [i for i in range(2)],\n",
    "                  columns = [i for i in range(2)])\n",
    "plt.figure(figsize = (10,7))\n",
    "sn.heatmap(df_cm, annot=True,cmap=\"YlGnBu\",fmt='g')"
   ]
  },
  {
   "cell_type": "markdown",
   "metadata": {},
   "source": [
    "## Plot the history"
   ]
  },
  {
   "cell_type": "code",
   "execution_count": 46,
   "metadata": {},
   "outputs": [
    {
     "data": {
      "image/png": "[encoded data removed]",
      "text/plain": [
       "<Figure size 432x288 with 1 Axes>"
      ]
     },
     "metadata": {},
     "output_type": "display_data"
    },
    {
     "data": {
      "image/png": "[encoded data removed]",
      "text/plain": [
       "<Figure size 432x288 with 1 Axes>"
      ]
     },
     "metadata": {},
     "output_type": "display_data"
    }
   ],
   "source": [
    "# Plot training & validation accuracy values\n",
    "plt.plot(H.history['acc'])\n",
    "plt.plot(H.history['val_acc'])\n",
    "plt.title('Model accuracy')\n",
    "plt.ylabel('Accuracy')\n",
    "plt.xlabel('Epoch')\n",
    "plt.legend(['Train', 'Test'], loc='upper left')\n",
    "plt.show()\n",
    "\n",
    "# Plot training & validation loss values\n",
    "plt.plot(H.history['loss'])\n",
    "plt.plot(H.history['val_loss'])\n",
    "plt.title('Model loss')\n",
    "plt.ylabel('Loss')\n",
    "plt.xlabel('Epoch')\n",
    "plt.legend(['Train', 'Test'], loc='upper left')\n",
    "plt.show()"
   ]
  },
  {
   "cell_type": "code",
   "execution_count": null,
   "metadata": {},
   "outputs": [],
   "source": []
  }
 ],
 "metadata": {
  "kernelspec": {
   "display_name": "Python 3",
   "language": "python",
   "name": "python3"
  },
  "language_info": {
   "codemirror_mode": {
    "name": "ipython",
    "version": 3
   },
   "file_extension": ".py",
   "mimetype": "text/x-python",
   "name": "python",
   "nbconvert_exporter": "python",
   "pygments_lexer": "ipython3",
   "version": "3.5.3"
  }
 },
 "nbformat": 4,
 "nbformat_minor": 1
}
