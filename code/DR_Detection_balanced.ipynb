{
 "cells": [
  {
   "cell_type": "markdown",
   "metadata": {},
   "source": [
    "# DrEyeBot Retinal Image Analysis using CNN"
   ]
  },
  {
   "cell_type": "code",
   "execution_count": 2,
   "metadata": {},
   "outputs": [],
   "source": [
    "# This tells matplotlib not to try opening a new window for each plot.\n",
    "%matplotlib inline\n",
    "\n",
    "# Import a bunch of libraries.\n",
    "import datetime\n",
    "import time\n",
    "import random\n",
    "import numpy as np\n",
    "import matplotlib.pyplot as plt\n",
    "import matplotlib.image as mpimg\n",
    "import os\n",
    "import sys\n",
    "import imutils\n",
    "from matplotlib.ticker import MultipleLocator\n",
    "from sklearn.pipeline import Pipeline\n",
    "from sklearn.datasets import fetch_mldata\n",
    "from sklearn.neighbors import KNeighborsClassifier\n",
    "from sklearn.metrics import confusion_matrix\n",
    "from sklearn.linear_model import LinearRegression\n",
    "from sklearn.naive_bayes import BernoulliNB\n",
    "from sklearn.naive_bayes import MultinomialNB\n",
    "from sklearn.naive_bayes import GaussianNB\n",
    "#from sklearn.grid_search import GridSearchCV\n",
    "from sklearn.metrics import classification_report\n",
    "from sklearn.metrics import cohen_kappa_score\n",
    "from sklearn.utils.multiclass import unique_labels\n",
    "from shutil import copyfile\n",
    "\n",
    "import pandas as pd\n",
    "import cv2\n",
    "import seaborn as sn\n",
    "\n",
    "# Set the randomizer seed so results are the same each time.\n",
    "np.random.seed(0)"
   ]
  },
  {
   "cell_type": "code",
   "execution_count": 3,
   "metadata": {},
   "outputs": [
    {
     "name": "stderr",
     "output_type": "stream",
     "text": [
      "Using TensorFlow backend.\n"
     ]
    }
   ],
   "source": [
    "from keras.models import Sequential,Model\n",
    "from keras.layers.normalization import BatchNormalization\n",
    "from keras.layers.convolutional import Conv2D\n",
    "from keras.layers.convolutional import Convolution2D\n",
    "from keras.layers.convolutional import MaxPooling2D\n",
    "from keras.layers.convolutional import ZeroPadding2D\n",
    "from keras.layers.core import Activation\n",
    "from keras.layers.core import Flatten\n",
    "from keras.layers.core import Dropout\n",
    "from keras.layers.core import Dense\n",
    "from keras import backend as K\n",
    "from keras.wrappers.scikit_learn import KerasRegressor\n",
    "from keras.wrappers.scikit_learn import KerasClassifier\n",
    "from keras.utils import to_categorical\n",
    "import tensorflow as tf\n",
    "from keras.models import model_from_json\n",
    "from keras import applications\n",
    "from keras.callbacks import ModelCheckpoint, LearningRateScheduler, TensorBoard, EarlyStopping\n",
    "from keras.initializers import glorot_normal\n",
    "\n",
    "\n",
    "from keras.preprocessing.image import ImageDataGenerator\n",
    "from keras.optimizers import Adam,RMSprop,SGD\n",
    "from keras.preprocessing.image import img_to_array\n",
    "from sklearn.preprocessing import LabelBinarizer\n",
    "from sklearn.model_selection import train_test_split\n",
    "#from pyimagesearch.smallervggnet import SmallerVGGNet"
   ]
  },
  {
   "cell_type": "code",
   "execution_count": 4,
   "metadata": {},
   "outputs": [
    {
     "name": "stdout",
     "output_type": "stream",
     "text": [
      "[name: \"/device:CPU:0\"\n",
      "device_type: \"CPU\"\n",
      "memory_limit: 268435456\n",
      "locality {\n",
      "}\n",
      "incarnation: 13961969249502847968\n",
      ", name: \"/device:XLA_CPU:0\"\n",
      "device_type: \"XLA_CPU\"\n",
      "memory_limit: 17179869184\n",
      "locality {\n",
      "}\n",
      "incarnation: 2672331157601856877\n",
      "physical_device_desc: \"device: XLA_CPU device\"\n",
      "]\n"
     ]
    }
   ],
   "source": [
    "from tensorflow.python.client import device_lib\n",
    "print(device_lib.list_local_devices())"
   ]
  },
  {
   "cell_type": "markdown",
   "metadata": {},
   "source": [
    "## Common Functions"
   ]
  },
  {
   "cell_type": "markdown",
   "metadata": {},
   "source": [
    "### Helper Functions"
   ]
  },
  {
   "cell_type": "code",
   "execution_count": 106,
   "metadata": {},
   "outputs": [],
   "source": [
    "def levelset(x):\n",
    "    \"\"\" Sets Levels 1-4 to level 1\"\"\"\n",
    "    if x>0:\n",
    "        return 1\n",
    "    else:\n",
    "        return 0\n",
    "\n",
    "def RMSE(actual, predict):\n",
    "    diff = actual - predict\n",
    "    diff = sum(diff**2) / len(actual)\n",
    "    return np.sqrt(diff)\n",
    "\n",
    "def select_toy_images(image_label,N=-1,images_percent=list()):\n",
    "    \"\"\" Selects number of images from each class. By default it is ALL images\"\"\"\n",
    "    image_list = list()\n",
    "    final_images = pd.DataFrame(columns = image_label.columns)\n",
    "    # We create a toy dataset of 'N' images, maintaining the split of the original \n",
    "    if N==-1:\n",
    "            # We need to pick all the images. No need to sample\n",
    "            # We can ignore the percentage here\n",
    "            final_images = image_label\n",
    "    else:\n",
    "        for level in range(5):\n",
    "        # Get respective number of images in each level\n",
    "            if len(images_percent)==5:\n",
    "                number_of_images = int(images_percent[level]*N/100)\n",
    "            else:\n",
    "                # We have no percentage of images. Setting the default safe percentage\n",
    "                images_percent = [73.6,6.9,15.1,2.4,2]\n",
    "                number_of_images = int(images_percent[level]*N/100)\n",
    "            sample_images = image_label[image_label.level==level].sample(n=number_of_images,axis=0)\n",
    "            frames = [final_images,sample_images]\n",
    "            final_images = pd.concat(frames).reset_index(drop=True)\n",
    "    return final_images \n",
    "\n",
    "def preprocess(image,scale=224):\n",
    "    \"\"\" preprocess the test image and covert to array \"\"\"\n",
    "    inter=cv2.INTER_AREA\n",
    "    (h, w) = image.shape[:2]\n",
    "    dW = 0\n",
    "    dH = 0\n",
    "\n",
    "    width = scale\n",
    "    height = scale\n",
    "\n",
    "    # if the width is smaller than the height, then resize\n",
    "    # along the width (i.e., the smaller dimension) and then\n",
    "    # update the deltas to crop the height to the desired\n",
    "    # dimension\n",
    "    if w < h:\n",
    "        image = imutils.resize(image, width=width,\n",
    "            inter=inter)\n",
    "        dH = int((image.shape[0] - height) / 2.0)\n",
    "\n",
    "    # otherwise, the height is smaller than the width so\n",
    "    # resize along the height and then update the deltas\n",
    "    # crop along the width\n",
    "    else:\n",
    "        image = imutils.resize(image, height=height,\n",
    "            inter=inter)\n",
    "        dW = int((image.shape[1] - width) / 2.0)\n",
    "\n",
    "    # now that our images have been resized, we need to\n",
    "    # re-grab the width and height, followed by performing\n",
    "    # the crop\n",
    "    (h, w) = image.shape[:2]\n",
    "    image = image[dH:h - dH, dW:w - dW]\n",
    "\n",
    "    # finally, resize the image to the provided spatial\n",
    "    # dimensions to ensure our output image is always a fixed\n",
    "    # size\n",
    "\n",
    "    image =  cv2.resize(image, (width, height),\n",
    "        interpolation=inter)\n",
    "    image_arr = img_to_array(image)\n",
    "    image_arr = image_arr/255.0\n",
    "    return img_to_array(image_arr)\n",
    "\n",
    "def selector(x):\n",
    "    \"\"\" Function to select the class\"\"\"\n",
    "    if x[0] > x[1]:\n",
    "        return 0\n",
    "    else:\n",
    "        return 1"
   ]
  },
  {
   "cell_type": "markdown",
   "metadata": {},
   "source": [
    "### Model related functions"
   ]
  },
  {
   "cell_type": "code",
   "execution_count": 22,
   "metadata": {},
   "outputs": [],
   "source": [
    "def VGG_16_TL(input_shape,layers_to_skip=None,weights=None,include_top=True):\n",
    "    \"\"\" VGG 16 with Transfer Learning. Using Keras built in function\"\"\"\n",
    "    model = applications.VGG16(weights = weights, include_top=include_top, input_shape = input_shape)\n",
    "    if layers_to_skip:\n",
    "        if weights==None:\n",
    "            print(\"ERROR: You cannot have weights as none if layers_to_skip is non-zero\")\n",
    "        else:\n",
    "            for layer in model.layers[:layers_to_skip]:\n",
    "                layer.trainable = False\n",
    "            #Adding custom Layers \n",
    "            x = model.output\n",
    "            x = Flatten()(x)\n",
    "            x = Dense(4096, activation=\"relu\")(x)\n",
    "            x = Dropout(0.5)(x)\n",
    "            x = Dense(4096, activation=\"relu\")(x)\n",
    "            x = Dropout(0.5)(x)\n",
    "    else:\n",
    "        x = model.output\n",
    "    \n",
    "    predictions = Dense(num_classes, activation=\"softmax\")(x)\n",
    "    adam_opt = Adam(lr=0.01)\n",
    "    rms_opt = RMSprop(lr=0.01)\n",
    "    sgd = SGD(lr=0.001, decay=1e-6, momentum=0.5, nesterov=True)\n",
    "    # creating the final model \n",
    "    model_final = Model(input = model.input, output = predictions)\n",
    "    model_final.compile(loss = 'binary_crossentropy', optimizer = sgd, metrics = ['accuracy'])\n",
    "    return model_final\n",
    "\n",
    "def VGG_16(weights_path=None):\n",
    "    initializer = glorot_normal()\n",
    "    model = Sequential()\n",
    "    model.add(Conv2D(64, kernel_size=(3, 3),input_shape=(length,width,depth),\n",
    "                     activation='relu',kernel_initializer=initializer))\n",
    "    model.add(ZeroPadding2D((1,1)))\n",
    "    model.add(Conv2D(64, 3, 3, activation='relu',kernel_initializer=initializer))\n",
    "    model.add(MaxPooling2D((2,2), strides=(2,2)))\n",
    "\n",
    "    model.add(ZeroPadding2D((1,1)))\n",
    "    model.add(Conv2D(128, 3, 3, activation='relu',kernel_initializer=initializer))\n",
    "    model.add(ZeroPadding2D((1,1)))\n",
    "    model.add(Conv2D(128, 3, 3, activation='relu',kernel_initializer=initializer))\n",
    "    model.add(MaxPooling2D((2,2), strides=(2,2)))\n",
    "\n",
    "    model.add(ZeroPadding2D((1,1)))\n",
    "    model.add(Conv2D(256, 3, 3, activation='relu',kernel_initializer=initializer))\n",
    "    model.add(ZeroPadding2D((1,1)))\n",
    "    model.add(Conv2D(256, 3, 3, activation='relu',kernel_initializer=initializer))\n",
    "    model.add(ZeroPadding2D((1,1)))\n",
    "    model.add(Conv2D(256, 3, 3, activation='relu',kernel_initializer=initializer))\n",
    "    model.add(MaxPooling2D((2,2), strides=(2,2)))\n",
    "\n",
    "    model.add(ZeroPadding2D((1,1)))\n",
    "    model.add(Conv2D(512, 3, 3, activation='relu',kernel_initializer=initializer))\n",
    "    model.add(ZeroPadding2D((1,1)))\n",
    "    model.add(Conv2D(512, 3, 3, activation='relu',kernel_initializer=initializer))\n",
    "    model.add(ZeroPadding2D((1,1)))\n",
    "    model.add(Conv2D(512, 3, 3, activation='relu',kernel_initializer=initializer))\n",
    "    model.add(MaxPooling2D((2,2), strides=(2,2)))\n",
    "\n",
    "    model.add(ZeroPadding2D((1,1)))\n",
    "    model.add(Conv2D(512, 3, 3, activation='relu',kernel_initializer=initializer))\n",
    "    model.add(ZeroPadding2D((1,1)))\n",
    "    model.add(Conv2D(512, 3, 3, activation='relu',kernel_initializer=initializer))\n",
    "    model.add(ZeroPadding2D((1,1)))\n",
    "    model.add(Conv2D(512, 3, 3, activation='relu',kernel_initializer=initializer))\n",
    "    model.add(MaxPooling2D((2,2), strides=(2,2)))\n",
    "\n",
    "    model.add(Flatten())\n",
    "    model.add(Dense(4096, activation='relu',kernel_initializer=initializer))\n",
    "    model.add(Dropout(0.5))\n",
    "    model.add(Dense(4096, activation='relu',kernel_initializer=initializer))\n",
    "    model.add(Dropout(0.5))\n",
    "    model.add(Dense(num_classes, activation='softmax'))\n",
    "    adam_opt = Adam(lr=0.01)\n",
    "    rms_opt = RMSprop(lr=0.01)\n",
    "    sgd = SGD(lr=0.001, decay=1e-6, momentum=0.5, nesterov=True)\n",
    "    model.compile(loss = 'binary_crossentropy', optimizer = sgd, metrics = ['accuracy'])\n",
    "    #print(model.summary())\n",
    "    return model\n",
    "\n",
    "def CNN_FF():\n",
    "    \"\"\" CNN with Feed Forward NN \"\"\"\n",
    "    model_conv = Sequential()\n",
    "    model_conv.add(Conv2D(32, kernel_size=(5, 5), \n",
    "                                          input_shape=(length,width,depth),activation='relu'))\n",
    "    model_conv.add(MaxPooling2D(pool_size=(2, 2)))\n",
    "    model_conv.add(Conv2D(64, (5, 5), activation='relu'))\n",
    "    model_conv.add(MaxPooling2D(pool_size=(2, 2)))\n",
    "    model_conv.add(Flatten())\n",
    "    model_conv.add(Dense(100))\n",
    "    model_conv.add(Dropout(0.1))\n",
    "    model_conv.add(Dense(num_classes, activation='softmax'))\n",
    "    sgd = SGD(lr=0.001, decay=1e-6, momentum=0.5, nesterov=True)\n",
    "    model_conv.compile(loss = 'binary_crossentropy', optimizer = sgd, metrics = ['accuracy'])\n",
    "    #print(model_conv.summary())\n",
    "    return model_conv\n",
    "\n",
    "\n",
    "def save_model(model,vgg=True):\n",
    "    # saving model\n",
    "    json_model = model.to_json()\n",
    "    # Get today's date. We will use this as string for filename\n",
    "    now = datetime.datetime.now()\n",
    "    day = str(now)[:10]\n",
    "    if vgg:\n",
    "        arch_name = 'model_architecture_vgg_'+day+'35K_aug'+'.json'\n",
    "        model_weights = 'model_weights_vgg_'+day+'35K_aug'+'.h5'\n",
    "    else:\n",
    "        arch_name = 'model_architecture_s_cnn'+day+'.json'\n",
    "        model_weights = 'model_weights_s_cnn'+day+'.h5'\n",
    "        \n",
    "    open(arch_name, 'w').write(json_model)\n",
    "    # saving weights\n",
    "    model.save_weights(model_weights, overwrite=True)\n",
    "\n",
    "def load_model(model_arch,model_weights):\n",
    "    # loading model\n",
    "    model = model_from_json(open(model_arch).read())\n",
    "    model.load_weights(model_weights)\n",
    "    model.compile(loss='binary_crossentropy', optimizer='adam')\n",
    "    return model"
   ]
  },
  {
   "cell_type": "markdown",
   "metadata": {},
   "source": [
    "## LOAD DATA"
   ]
  },
  {
   "cell_type": "code",
   "execution_count": 7,
   "metadata": {
    "scrolled": true
   },
   "outputs": [],
   "source": [
    "# Load the csv data\n",
    "orig_label = pd.read_csv(\"./Retinal-Images/trainLabels.csv\")\n",
    "# Load the test csv data\n",
    "test_label = pd.read_csv(\"./Retinal-Images/retinopathy_solution.csv\")\n",
    "test_label.drop('Usage',inplace=True,axis=1)"
   ]
  },
  {
   "cell_type": "code",
   "execution_count": 8,
   "metadata": {},
   "outputs": [
    {
     "data": {
      "text/plain": [
       "image    35126\n",
       "level    35126\n",
       "dtype: int64"
      ]
     },
     "execution_count": 8,
     "metadata": {},
     "output_type": "execute_result"
    }
   ],
   "source": [
    "orig_label.count()"
   ]
  },
  {
   "cell_type": "code",
   "execution_count": 9,
   "metadata": {},
   "outputs": [
    {
     "data": {
      "text/plain": [
       "image    53576\n",
       "level    53576\n",
       "dtype: int64"
      ]
     },
     "execution_count": 9,
     "metadata": {},
     "output_type": "execute_result"
    }
   ],
   "source": [
    "test_label.count()"
   ]
  },
  {
   "cell_type": "code",
   "execution_count": 10,
   "metadata": {},
   "outputs": [
    {
     "data": {
      "text/html": [
       "<div>\n",
       "<style scoped>\n",
       "    .dataframe tbody tr th:only-of-type {\n",
       "        vertical-align: middle;\n",
       "    }\n",
       "\n",
       "    .dataframe tbody tr th {\n",
       "        vertical-align: top;\n",
       "    }\n",
       "\n",
       "    .dataframe thead th {\n",
       "        text-align: right;\n",
       "    }\n",
       "</style>\n",
       "<table border=\"1\" class=\"dataframe\">\n",
       "  <thead>\n",
       "    <tr style=\"text-align: right;\">\n",
       "      <th></th>\n",
       "      <th>image</th>\n",
       "    </tr>\n",
       "    <tr>\n",
       "      <th>level</th>\n",
       "      <th></th>\n",
       "    </tr>\n",
       "  </thead>\n",
       "  <tbody>\n",
       "    <tr>\n",
       "      <th>0</th>\n",
       "      <td>25810</td>\n",
       "    </tr>\n",
       "    <tr>\n",
       "      <th>1</th>\n",
       "      <td>2443</td>\n",
       "    </tr>\n",
       "    <tr>\n",
       "      <th>2</th>\n",
       "      <td>5292</td>\n",
       "    </tr>\n",
       "    <tr>\n",
       "      <th>3</th>\n",
       "      <td>873</td>\n",
       "    </tr>\n",
       "    <tr>\n",
       "      <th>4</th>\n",
       "      <td>708</td>\n",
       "    </tr>\n",
       "  </tbody>\n",
       "</table>\n",
       "</div>"
      ],
      "text/plain": [
       "       image\n",
       "level       \n",
       "0      25810\n",
       "1       2443\n",
       "2       5292\n",
       "3        873\n",
       "4        708"
      ]
     },
     "execution_count": 10,
     "metadata": {},
     "output_type": "execute_result"
    }
   ],
   "source": [
    "orig_label.groupby(['level']).count()"
   ]
  },
  {
   "cell_type": "code",
   "execution_count": 11,
   "metadata": {},
   "outputs": [
    {
     "data": {
      "text/html": [
       "<div>\n",
       "<style scoped>\n",
       "    .dataframe tbody tr th:only-of-type {\n",
       "        vertical-align: middle;\n",
       "    }\n",
       "\n",
       "    .dataframe tbody tr th {\n",
       "        vertical-align: top;\n",
       "    }\n",
       "\n",
       "    .dataframe thead th {\n",
       "        text-align: right;\n",
       "    }\n",
       "</style>\n",
       "<table border=\"1\" class=\"dataframe\">\n",
       "  <thead>\n",
       "    <tr style=\"text-align: right;\">\n",
       "      <th></th>\n",
       "      <th>image</th>\n",
       "    </tr>\n",
       "    <tr>\n",
       "      <th>level</th>\n",
       "      <th></th>\n",
       "    </tr>\n",
       "  </thead>\n",
       "  <tbody>\n",
       "    <tr>\n",
       "      <th>0</th>\n",
       "      <td>39533</td>\n",
       "    </tr>\n",
       "    <tr>\n",
       "      <th>1</th>\n",
       "      <td>3762</td>\n",
       "    </tr>\n",
       "    <tr>\n",
       "      <th>2</th>\n",
       "      <td>7861</td>\n",
       "    </tr>\n",
       "    <tr>\n",
       "      <th>3</th>\n",
       "      <td>1214</td>\n",
       "    </tr>\n",
       "    <tr>\n",
       "      <th>4</th>\n",
       "      <td>1206</td>\n",
       "    </tr>\n",
       "  </tbody>\n",
       "</table>\n",
       "</div>"
      ],
      "text/plain": [
       "       image\n",
       "level       \n",
       "0      39533\n",
       "1       3762\n",
       "2       7861\n",
       "3       1214\n",
       "4       1206"
      ]
     },
     "execution_count": 11,
     "metadata": {},
     "output_type": "execute_result"
    }
   ],
   "source": [
    "test_label.groupby(['level']).count()"
   ]
  },
  {
   "cell_type": "markdown",
   "metadata": {},
   "source": [
    "### DATA PREPERATION"
   ]
  },
  {
   "cell_type": "code",
   "execution_count": 12,
   "metadata": {
    "scrolled": true
   },
   "outputs": [
    {
     "data": {
      "text/plain": [
       "30126"
      ]
     },
     "execution_count": 12,
     "metadata": {},
     "output_type": "execute_result"
    }
   ],
   "source": [
    "l4_orig_df = orig_label[orig_label.level==4].sample(200)\n",
    "l3_orig_df = orig_label[orig_label.level==3].sample(500)\n",
    "l2_orig_df = orig_label[orig_label.level==2].sample(500)\n",
    "l1_orig_df = orig_label[orig_label.level==1].sample(500)\n",
    "l0_orig_df = orig_label[orig_label.level==0].sample(3300)\n",
    "rest_orig_df = pd.concat([orig_label, l4_orig_df,l3_orig_df,\n",
    "                          l2_orig_df,l1_orig_df,l0_orig_df]).drop_duplicates(keep=False)\n",
    "len(rest_orig_df)"
   ]
  },
  {
   "cell_type": "code",
   "execution_count": 13,
   "metadata": {},
   "outputs": [
    {
     "data": {
      "text/plain": [
       "48576"
      ]
     },
     "execution_count": 13,
     "metadata": {},
     "output_type": "execute_result"
    }
   ],
   "source": [
    "l4_test_df = test_label[test_label.level==4].sample(200)\n",
    "l3_test_df = test_label[test_label.level==3].sample(500)\n",
    "l2_test_df = test_label[test_label.level==2].sample(500)\n",
    "l1_test_df = test_label[test_label.level==1].sample(500)\n",
    "l0_test_df = test_label[test_label.level==0].sample(3300)\n",
    "rest_test_df = pd.concat([test_label, l4_test_df,l3_test_df,\n",
    "                          l2_test_df,l1_test_df,l0_test_df]).drop_duplicates(keep=False)\n",
    "len(rest_test_df)"
   ]
  },
  {
   "cell_type": "markdown",
   "metadata": {},
   "source": [
    "### Save the dataframes so that same sets can be loaded at a later point"
   ]
  },
  {
   "cell_type": "code",
   "execution_count": 14,
   "metadata": {},
   "outputs": [],
   "source": [
    "l4_orig_df.to_pickle(\"./l4_orig_df.pkl\")\n",
    "l3_orig_df.to_pickle(\"./l3_orig_df.pkl\")\n",
    "l2_orig_df.to_pickle(\"./l2_orig_df.pkl\")\n",
    "l2_orig_df.to_pickle(\"./l1_orig_df.pkl\")\n",
    "l0_orig_df.to_pickle(\"./l0_orig_df.pkl\")\n",
    "rest_orig_df.to_pickle(\"./rest_orig_df.pkl\")\n",
    "\n",
    "l4_test_df.to_pickle(\"./l4_test_df.pkl\")\n",
    "l3_test_df.to_pickle(\"./l3_test_df.pkl\")\n",
    "l2_test_df.to_pickle(\"./l2_test_df.pkl\")\n",
    "l2_test_df.to_pickle(\"./l1_test_df.pkl\")\n",
    "l0_test_df.to_pickle(\"./l0_test_df.pkl\")\n",
    "rest_test_df.to_pickle(\"./rest_test_df.pkl\")"
   ]
  },
  {
   "cell_type": "code",
   "execution_count": 15,
   "metadata": {},
   "outputs": [],
   "source": [
    "val_list = [l0_orig_df,l1_orig_df,l2_orig_df,l3_orig_df,l4_orig_df]\n",
    "test_list = [l0_test_df,l1_test_df,l2_test_df,l3_test_df,l4_test_df]\n",
    "train_list = [rest_orig_df,rest_test_df]"
   ]
  },
  {
   "cell_type": "code",
   "execution_count": 16,
   "metadata": {},
   "outputs": [
    {
     "data": {
      "text/plain": [
       "(5000,)"
      ]
     },
     "execution_count": 16,
     "metadata": {},
     "output_type": "execute_result"
    }
   ],
   "source": [
    "test_labels=list()\n",
    "test_labels.append(list(l0_test_df.level.values))\n",
    "test_labels.append(list(l1_test_df.level.values))\n",
    "test_labels.append(list(l2_test_df.level.values))\n",
    "test_labels.append(list(l3_test_df.level.values))\n",
    "test_labels.append(list(l4_test_df.level.values))\n",
    "test_labels = [item for sublist in test_labels for item in sublist]\n",
    "test_labels=np.asarray(test_labels)\n",
    "test_labels.shape"
   ]
  },
  {
   "cell_type": "code",
   "execution_count": 75,
   "metadata": {},
   "outputs": [
    {
     "data": {
      "text/plain": [
       "(5000,)"
      ]
     },
     "execution_count": 75,
     "metadata": {},
     "output_type": "execute_result"
    }
   ],
   "source": [
    "test_image_list=list()\n",
    "test_image_list.append(list(l0_test_df.image.values))\n",
    "test_image_list.append(list(l1_test_df.image.values))\n",
    "test_image_list.append(list(l2_test_df.image.values))\n",
    "test_image_list.append(list(l3_test_df.image.values))\n",
    "test_image_list.append(list(l4_test_df.image.values))\n",
    "test_image_list = [item for sublist in test_image_list for item in sublist]\n",
    "test_image_list=np.asarray(test_image_list)\n",
    "test_image_list.shape"
   ]
  },
  {
   "cell_type": "code",
   "execution_count": 48,
   "metadata": {},
   "outputs": [
    {
     "data": {
      "text/plain": [
       "(5000,)"
      ]
     },
     "execution_count": 48,
     "metadata": {},
     "output_type": "execute_result"
    }
   ],
   "source": [
    "val_labels=list()\n",
    "val_labels.append(list(l0_orig_df.level.values))\n",
    "val_labels.append(list(l1_orig_df.level.values))\n",
    "val_labels.append(list(l2_orig_df.level.values))\n",
    "val_labels.append(list(l3_orig_df.level.values))\n",
    "val_labels.append(list(l4_orig_df.level.values))\n",
    "val_labels = [item for sublist in val_labels for item in sublist]\n",
    "val_labels=np.asarray(val_labels)\n",
    "val_labels.shape"
   ]
  },
  {
   "cell_type": "code",
   "execution_count": 76,
   "metadata": {},
   "outputs": [
    {
     "data": {
      "text/plain": [
       "(5000,)"
      ]
     },
     "execution_count": 76,
     "metadata": {},
     "output_type": "execute_result"
    }
   ],
   "source": [
    "val_image_list=list()\n",
    "val_image_list.append(list(l0_orig_df.image.values))\n",
    "val_image_list.append(list(l1_orig_df.image.values))\n",
    "val_image_list.append(list(l2_orig_df.image.values))\n",
    "val_image_list.append(list(l3_orig_df.image.values))\n",
    "val_image_list.append(list(l4_orig_df.image.values))\n",
    "val_image_list = [item for sublist in val_image_list for item in sublist]\n",
    "val_image_list=np.asarray(val_image_list)\n",
    "val_image_list.shape"
   ]
  },
  {
   "cell_type": "code",
   "execution_count": 77,
   "metadata": {},
   "outputs": [
    {
     "data": {
      "text/plain": [
       "array(['7704_left', '12406_right', '12224_right', ..., '28699_right',\n",
       "       '15243_right', '19751_right'], dtype='<U11')"
      ]
     },
     "execution_count": 77,
     "metadata": {},
     "output_type": "execute_result"
    }
   ],
   "source": [
    "test_image_list"
   ]
  },
  {
   "cell_type": "code",
   "execution_count": 17,
   "metadata": {},
   "outputs": [
    {
     "data": {
      "text/plain": [
       "array([0, 0, 0, ..., 1, 1, 1])"
      ]
     },
     "execution_count": 17,
     "metadata": {},
     "output_type": "execute_result"
    }
   ],
   "source": [
    "test_labels[test_labels>0]=1\n",
    "test_labels"
   ]
  },
  {
   "cell_type": "code",
   "execution_count": 18,
   "metadata": {},
   "outputs": [],
   "source": [
    "# Copy train images\n",
    "for i in range(2):\n",
    "    if i==0:\n",
    "        image_dir = os.getcwd()+'/Retinal-Images/train_resize_224/'\n",
    "        for j in range(len(rest_orig_df)):        \n",
    "            image_class = rest_orig_df.iloc[[j],[1]].values[0][0]\n",
    "            image_name = rest_orig_df.iloc[[j],[0]].values[0][0]\n",
    "            image_loc = image_dir+image_name+'.jpeg'\n",
    "            if image_class>0:\n",
    "                # Reset the class to 1\n",
    "                image_class_str=1\n",
    "                class_dir = 'class_'+str(image_class_str)\n",
    "                out_dir = os.getcwd()+'/Retinal-Images/train_new/'+class_dir+'/'\n",
    "                if image_class==3 or image_class==4:\n",
    "                    # Let us create 4 copies for same image\n",
    "                    copy_loc_1 = out_dir+image_name+'-1.jpeg'\n",
    "                    copyfile(image_loc,copy_loc_1)\n",
    "                    copy_loc_2 = out_dir+image_name+'-2.jpeg'\n",
    "                    copyfile(image_loc,copy_loc_2)\n",
    "                    copy_loc_3 = out_dir+image_name+'-3.jpeg'\n",
    "                    copyfile(image_loc,copy_loc_3)\n",
    "                    copy_loc_4 = out_dir+image_name+'-4.jpeg'\n",
    "                    copyfile(image_loc,copy_loc_4)\n",
    "                else:\n",
    "                    # For class 1 and 2 let us create 3 copies for same image\n",
    "                    copy_loc_1 = out_dir+image_name+'-1.jpeg'\n",
    "                    copyfile(image_loc,copy_loc_1)\n",
    "                    copy_loc_2 = out_dir+image_name+'-2.jpeg'\n",
    "                    copyfile(image_loc,copy_loc_2)\n",
    "                    copy_loc_3 = out_dir+image_name+'-3.jpeg'\n",
    "                    copyfile(image_loc,copy_loc_3)\n",
    "            else:\n",
    "                class_dir = 'class_'+str(image_class)\n",
    "                out_dir = os.getcwd()+'/Retinal-Images/train_new/'+class_dir+'/'\n",
    "                copy_loc = out_dir+image_name+'.jpeg'\n",
    "                copyfile(image_loc,copy_loc)                \n",
    "    else:\n",
    "        image_dir = os.getcwd()+'/Retinal-Images/test_resize_224/'\n",
    "        for j in range(len(rest_test_df)):        \n",
    "            image_class = rest_test_df.iloc[[j],[1]].values[0][0]\n",
    "            image_name = rest_test_df.iloc[[j],[0]].values[0][0]\n",
    "            image_loc = image_dir+image_name+'.jpeg'\n",
    "            if image_class>0:\n",
    "                image_class_str=1\n",
    "                class_dir = 'class_'+str(image_class_str)\n",
    "                out_dir = os.getcwd()+'/Retinal-Images/train_new/'+class_dir+'/'\n",
    "                if image_class==3 or image_class==4:\n",
    "                    # Let us create 4 copies for same image\n",
    "                    copy_loc_1 = out_dir+image_name+'-1.jpeg'\n",
    "                    copyfile(image_loc,copy_loc_1)\n",
    "                    copy_loc_2 = out_dir+image_name+'-2.jpeg'\n",
    "                    copyfile(image_loc,copy_loc_2)\n",
    "                    copy_loc_3 = out_dir+image_name+'-3.jpeg'\n",
    "                    copyfile(image_loc,copy_loc_3)\n",
    "                    copy_loc_4 = out_dir+image_name+'-4.jpeg'\n",
    "                    copyfile(image_loc,copy_loc_4)\n",
    "                else:\n",
    "                    # For class 1 and 2 let us create 3 copies for same image\n",
    "                    copy_loc_1 = out_dir+image_name+'-1.jpeg'\n",
    "                    copyfile(image_loc,copy_loc_1)\n",
    "                    copy_loc_2 = out_dir+image_name+'-2.jpeg'\n",
    "                    copyfile(image_loc,copy_loc_2)\n",
    "                    copy_loc_3 = out_dir+image_name+'-3.jpeg'\n",
    "                    copyfile(image_loc,copy_loc_3)\n",
    "            else:\n",
    "                # No oversampling for class0\n",
    "                class_dir = 'class_'+str(image_class)\n",
    "                out_dir = os.getcwd()+'/Retinal-Images/train_new/'+class_dir+'/'\n",
    "                copy_loc = out_dir+image_name+'.jpeg'\n",
    "                copyfile(image_loc,copy_loc)                \n",
    "\n",
    "# Copy val images\n",
    "for df in val_list:\n",
    "    image_dir = os.getcwd()+'/Retinal-Images/train_resize_224/'\n",
    "    for j in range(len(df)):\n",
    "        image_class = df.iloc[[j],[1]].values[0][0]\n",
    "        if image_class>0:\n",
    "                image_class=1\n",
    "        image_name = df.iloc[[j],[0]].values[0][0]\n",
    "        image_loc = image_dir+image_name+'.jpeg'\n",
    "        class_dir = 'class_'+str(image_class)\n",
    "        out_dir = os.getcwd()+'/Retinal-Images/val/'+class_dir+'/'\n",
    "        copy_loc = out_dir+image_name+'.jpeg'\n",
    "        copyfile(image_loc,copy_loc)\n",
    "\n",
    "# Copy test images\n",
    "for df in test_list:\n",
    "    image_dir = os.getcwd()+'/Retinal-Images/test_resize_224/'\n",
    "    for j in range(len(df)):\n",
    "        image_name = df.iloc[[j],[0]].values[0][0]\n",
    "        image_loc = image_dir+image_name+'.jpeg'\n",
    "        out_dir = os.getcwd()+'/Retinal-Images/test_new/test/'\n",
    "        copy_loc = out_dir+image_name+'.jpeg'\n",
    "        copyfile(image_loc,copy_loc)"
   ]
  },
  {
   "cell_type": "code",
   "execution_count": 41,
   "metadata": {},
   "outputs": [],
   "source": [
    "# Copy test images with 2 classes\n",
    "for df in test_list:\n",
    "    image_dir = os.getcwd()+'/Retinal-Images/test_resize_224/'\n",
    "    for j in range(len(df)):\n",
    "        image_class = df.iloc[[j],[1]].values[0][0]\n",
    "        if image_class>0:\n",
    "                image_class=1\n",
    "        image_name = df.iloc[[j],[0]].values[0][0]\n",
    "        image_loc = image_dir+image_name+'.jpeg'\n",
    "        class_dir = 'class_'+str(image_class)\n",
    "        out_dir = os.getcwd()+'/Retinal-Images/test_new/'+class_dir+'/'\n",
    "        copy_loc = out_dir+image_name+'.jpeg'\n",
    "        copyfile(image_loc,copy_loc)"
   ]
  },
  {
   "cell_type": "markdown",
   "metadata": {},
   "source": [
    "## TRAINING (SKIP THIS PART IF YOU HAVE SAVED MODEL)"
   ]
  },
  {
   "cell_type": "code",
   "execution_count": 19,
   "metadata": {},
   "outputs": [],
   "source": [
    "# Initialize parameters\n",
    "length = 224\n",
    "width = 224\n",
    "depth = 3\n",
    "num_classes = 2\n",
    "input_shape = (224,224,3)\n",
    "\n",
    "batch_size = 20"
   ]
  },
  {
   "cell_type": "code",
   "execution_count": 20,
   "metadata": {},
   "outputs": [
    {
     "name": "stdout",
     "output_type": "stream",
     "text": [
      "Found 5000 images belonging to 1 classes.\n",
      "Found 121221 images belonging to 2 classes.\n",
      "Found 5000 images belonging to 2 classes.\n"
     ]
    }
   ],
   "source": [
    "val_datagen = ImageDataGenerator(rescale=1./255)\n",
    "test_datagen = ImageDataGenerator(rescale=1./255)\n",
    "test_generator = test_datagen.flow_from_directory(\n",
    "         'Retinal-Images/test_new',\n",
    "         target_size=(224, 224),\n",
    "         batch_size=batch_size)\n",
    "\n",
    "train_datagen = ImageDataGenerator(\n",
    "        rescale=1./255,\n",
    "        shear_range=0.2,\n",
    "        zoom_range=0.2)\n",
    "\n",
    "train_generator = train_datagen.flow_from_directory(\n",
    "        'Retinal-Images/train_new',\n",
    "        target_size=(224,224),\n",
    "        classes = ['class_0','class_1'],\n",
    "        batch_size=batch_size,\n",
    "        class_mode='categorical')\n",
    "\n",
    "validation_generator = val_datagen.flow_from_directory(\n",
    "         'Retinal-Images/val',\n",
    "         target_size=(224, 224),\n",
    "         classes = ['class_0','class_1'],\n",
    "         batch_size=batch_size,\n",
    "         class_mode='categorical')"
   ]
  },
  {
   "cell_type": "code",
   "execution_count": 42,
   "metadata": {},
   "outputs": [
    {
     "name": "stdout",
     "output_type": "stream",
     "text": [
      "Found 5000 images belonging to 2 classes.\n"
     ]
    }
   ],
   "source": [
    "test_datagen = ImageDataGenerator(rescale=1./255)\n",
    "test_generator = test_datagen.flow_from_directory(\n",
    "         'Retinal-Images/test_new',\n",
    "         target_size=(224, 224),\n",
    "         batch_size=batch_size)"
   ]
  },
  {
   "cell_type": "code",
   "execution_count": 25,
   "metadata": {},
   "outputs": [
    {
     "data": {
      "text/plain": [
       "(121221, 5000, 5000)"
      ]
     },
     "execution_count": 25,
     "metadata": {},
     "output_type": "execute_result"
    }
   ],
   "source": [
    "#n_train = len(rest_orig_df) + len(rest_test_df)\n",
    "# Finding n_train with oversampling needs better coding. Hardcode for now\n",
    "n_train = 121221\n",
    "n_val = len(l0_orig_df)+len(l1_orig_df)+len(l2_orig_df)+len(l3_orig_df)+len(l4_orig_df)\n",
    "n_test = len(l0_test_df)+len(l1_test_df)+len(l2_test_df)+len(l3_test_df)+len(l4_test_df)\n",
    "n_train,n_val,n_test"
   ]
  },
  {
   "cell_type": "code",
   "execution_count": 26,
   "metadata": {},
   "outputs": [],
   "source": [
    "\n",
    "steps_per_epoch = int(n_train/batch_size)\n",
    "validation_steps = int(n_val/batch_size)\n",
    "test_steps = int(n_test/batch_size)"
   ]
  },
  {
   "cell_type": "code",
   "execution_count": 22,
   "metadata": {},
   "outputs": [
    {
     "data": {
      "text/plain": [
       "{'class_0': 0, 'class_1': 1}"
      ]
     },
     "execution_count": 22,
     "metadata": {},
     "output_type": "execute_result"
    }
   ],
   "source": [
    "train_generator.class_indices"
   ]
  },
  {
   "cell_type": "code",
   "execution_count": 21,
   "metadata": {},
   "outputs": [
    {
     "data": {
      "text/plain": [
       "array([1.03179102, 0.97010948])"
      ]
     },
     "execution_count": 21,
     "metadata": {},
     "output_type": "execute_result"
    }
   ],
   "source": [
    "from sklearn.utils import class_weight\n",
    "class_weights = class_weight.compute_class_weight(\n",
    "           'balanced',\n",
    "            np.unique(train_generator.classes), \n",
    "            train_generator.classes)\n",
    "class_weights"
   ]
  },
  {
   "cell_type": "code",
   "execution_count": 23,
   "metadata": {
    "collapsed": true
   },
   "outputs": [],
   "source": [
    "callbacks = [EarlyStopping(monitor='val_loss', patience=10),\n",
    "             ModelCheckpoint(filepath='best_model.h5', monitor='val_loss', save_best_only=True)]"
   ]
  },
  {
   "cell_type": "code",
   "execution_count": 24,
   "metadata": {
    "scrolled": true
   },
   "outputs": [
    {
     "name": "stdout",
     "output_type": "stream",
     "text": [
      "WARNING:tensorflow:From /usr/local/lib/python3.5/dist-packages/tensorflow/python/framework/op_def_library.py:263: colocate_with (from tensorflow.python.framework.ops) is deprecated and will be removed in a future version.\n",
      "Instructions for updating:\n",
      "Colocations handled automatically by placer.\n"
     ]
    },
    {
     "name": "stderr",
     "output_type": "stream",
     "text": [
      "/usr/local/lib/python3.5/dist-packages/ipykernel_launcher.py:35: UserWarning: Update your `Conv2D` call to the Keras 2 API: `Conv2D(64, (3, 3), activation=\"relu\", kernel_initializer=<keras.ini...)`\n",
      "/usr/local/lib/python3.5/dist-packages/ipykernel_launcher.py:39: UserWarning: Update your `Conv2D` call to the Keras 2 API: `Conv2D(128, (3, 3), activation=\"relu\", kernel_initializer=<keras.ini...)`\n",
      "/usr/local/lib/python3.5/dist-packages/ipykernel_launcher.py:41: UserWarning: Update your `Conv2D` call to the Keras 2 API: `Conv2D(128, (3, 3), activation=\"relu\", kernel_initializer=<keras.ini...)`\n",
      "/usr/local/lib/python3.5/dist-packages/ipykernel_launcher.py:45: UserWarning: Update your `Conv2D` call to the Keras 2 API: `Conv2D(256, (3, 3), activation=\"relu\", kernel_initializer=<keras.ini...)`\n",
      "/usr/local/lib/python3.5/dist-packages/ipykernel_launcher.py:47: UserWarning: Update your `Conv2D` call to the Keras 2 API: `Conv2D(256, (3, 3), activation=\"relu\", kernel_initializer=<keras.ini...)`\n",
      "/usr/local/lib/python3.5/dist-packages/ipykernel_launcher.py:49: UserWarning: Update your `Conv2D` call to the Keras 2 API: `Conv2D(256, (3, 3), activation=\"relu\", kernel_initializer=<keras.ini...)`\n",
      "/usr/local/lib/python3.5/dist-packages/ipykernel_launcher.py:53: UserWarning: Update your `Conv2D` call to the Keras 2 API: `Conv2D(512, (3, 3), activation=\"relu\", kernel_initializer=<keras.ini...)`\n",
      "/usr/local/lib/python3.5/dist-packages/ipykernel_launcher.py:55: UserWarning: Update your `Conv2D` call to the Keras 2 API: `Conv2D(512, (3, 3), activation=\"relu\", kernel_initializer=<keras.ini...)`\n",
      "/usr/local/lib/python3.5/dist-packages/ipykernel_launcher.py:57: UserWarning: Update your `Conv2D` call to the Keras 2 API: `Conv2D(512, (3, 3), activation=\"relu\", kernel_initializer=<keras.ini...)`\n",
      "/usr/local/lib/python3.5/dist-packages/ipykernel_launcher.py:61: UserWarning: Update your `Conv2D` call to the Keras 2 API: `Conv2D(512, (3, 3), activation=\"relu\", kernel_initializer=<keras.ini...)`\n",
      "/usr/local/lib/python3.5/dist-packages/ipykernel_launcher.py:63: UserWarning: Update your `Conv2D` call to the Keras 2 API: `Conv2D(512, (3, 3), activation=\"relu\", kernel_initializer=<keras.ini...)`\n",
      "/usr/local/lib/python3.5/dist-packages/ipykernel_launcher.py:65: UserWarning: Update your `Conv2D` call to the Keras 2 API: `Conv2D(512, (3, 3), activation=\"relu\", kernel_initializer=<keras.ini...)`\n"
     ]
    },
    {
     "name": "stdout",
     "output_type": "stream",
     "text": [
      "WARNING:tensorflow:From /usr/local/lib/python3.5/dist-packages/keras/backend/tensorflow_backend.py:3445: calling dropout (from tensorflow.python.ops.nn_ops) with keep_prob is deprecated and will be removed in a future version.\n",
      "Instructions for updating:\n",
      "Please use `rate` instead of `keep_prob`. Rate should be set to `rate = 1 - keep_prob`.\n",
      "_________________________________________________________________\n",
      "Layer (type)                 Output Shape              Param #   \n",
      "=================================================================\n",
      "conv2d_1 (Conv2D)            (None, 222, 222, 64)      1792      \n",
      "_________________________________________________________________\n",
      "zero_padding2d_1 (ZeroPaddin (None, 224, 224, 64)      0         \n",
      "_________________________________________________________________\n",
      "conv2d_2 (Conv2D)            (None, 222, 222, 64)      36928     \n",
      "_________________________________________________________________\n",
      "max_pooling2d_1 (MaxPooling2 (None, 111, 111, 64)      0         \n",
      "_________________________________________________________________\n",
      "zero_padding2d_2 (ZeroPaddin (None, 113, 113, 64)      0         \n",
      "_________________________________________________________________\n",
      "conv2d_3 (Conv2D)            (None, 111, 111, 128)     73856     \n",
      "_________________________________________________________________\n",
      "zero_padding2d_3 (ZeroPaddin (None, 113, 113, 128)     0         \n",
      "_________________________________________________________________\n",
      "conv2d_4 (Conv2D)            (None, 111, 111, 128)     147584    \n",
      "_________________________________________________________________\n",
      "max_pooling2d_2 (MaxPooling2 (None, 55, 55, 128)       0         \n",
      "_________________________________________________________________\n",
      "zero_padding2d_4 (ZeroPaddin (None, 57, 57, 128)       0         \n",
      "_________________________________________________________________\n",
      "conv2d_5 (Conv2D)            (None, 55, 55, 256)       295168    \n",
      "_________________________________________________________________\n",
      "zero_padding2d_5 (ZeroPaddin (None, 57, 57, 256)       0         \n",
      "_________________________________________________________________\n",
      "conv2d_6 (Conv2D)            (None, 55, 55, 256)       590080    \n",
      "_________________________________________________________________\n",
      "zero_padding2d_6 (ZeroPaddin (None, 57, 57, 256)       0         \n",
      "_________________________________________________________________\n",
      "conv2d_7 (Conv2D)            (None, 55, 55, 256)       590080    \n",
      "_________________________________________________________________\n",
      "max_pooling2d_3 (MaxPooling2 (None, 27, 27, 256)       0         \n",
      "_________________________________________________________________\n",
      "zero_padding2d_7 (ZeroPaddin (None, 29, 29, 256)       0         \n",
      "_________________________________________________________________\n",
      "conv2d_8 (Conv2D)            (None, 27, 27, 512)       1180160   \n",
      "_________________________________________________________________\n",
      "zero_padding2d_8 (ZeroPaddin (None, 29, 29, 512)       0         \n",
      "_________________________________________________________________\n",
      "conv2d_9 (Conv2D)            (None, 27, 27, 512)       2359808   \n",
      "_________________________________________________________________\n",
      "zero_padding2d_9 (ZeroPaddin (None, 29, 29, 512)       0         \n",
      "_________________________________________________________________\n",
      "conv2d_10 (Conv2D)           (None, 27, 27, 512)       2359808   \n",
      "_________________________________________________________________\n",
      "max_pooling2d_4 (MaxPooling2 (None, 13, 13, 512)       0         \n",
      "_________________________________________________________________\n",
      "zero_padding2d_10 (ZeroPaddi (None, 15, 15, 512)       0         \n",
      "_________________________________________________________________\n",
      "conv2d_11 (Conv2D)           (None, 13, 13, 512)       2359808   \n",
      "_________________________________________________________________\n",
      "zero_padding2d_11 (ZeroPaddi (None, 15, 15, 512)       0         \n",
      "_________________________________________________________________\n",
      "conv2d_12 (Conv2D)           (None, 13, 13, 512)       2359808   \n",
      "_________________________________________________________________\n",
      "zero_padding2d_12 (ZeroPaddi (None, 15, 15, 512)       0         \n",
      "_________________________________________________________________\n",
      "conv2d_13 (Conv2D)           (None, 13, 13, 512)       2359808   \n",
      "_________________________________________________________________\n",
      "max_pooling2d_5 (MaxPooling2 (None, 6, 6, 512)         0         \n",
      "_________________________________________________________________\n",
      "flatten_1 (Flatten)          (None, 18432)             0         \n",
      "_________________________________________________________________\n",
      "dense_1 (Dense)              (None, 4096)              75501568  \n",
      "_________________________________________________________________\n",
      "dropout_1 (Dropout)          (None, 4096)              0         \n",
      "_________________________________________________________________\n",
      "dense_2 (Dense)              (None, 4096)              16781312  \n",
      "_________________________________________________________________\n",
      "dropout_2 (Dropout)          (None, 4096)              0         \n",
      "_________________________________________________________________\n",
      "dense_3 (Dense)              (None, 2)                 8194      \n",
      "=================================================================\n",
      "Total params: 107,005,762\n",
      "Trainable params: 107,005,762\n",
      "Non-trainable params: 0\n",
      "_________________________________________________________________\n",
      "None\n",
      "WARNING:tensorflow:From /usr/local/lib/python3.5/dist-packages/tensorflow/python/ops/math_ops.py:3066: to_int32 (from tensorflow.python.ops.math_ops) is deprecated and will be removed in a future version.\n",
      "Instructions for updating:\n",
      "Use tf.cast instead.\n"
     ]
    },
    {
     "name": "stderr",
     "output_type": "stream",
     "text": [
      "/usr/local/lib/python3.5/dist-packages/ipykernel_launcher.py:9: UserWarning: The semantics of the Keras 2 argument `steps_per_epoch` is not the same as the Keras 1 argument `samples_per_epoch`. `steps_per_epoch` is the number of batches to draw from the generator at each epoch. Basically steps_per_epoch = samples_per_epoch/batch_size. Similarly `nb_val_samples`->`validation_steps` and `val_samples`->`steps` arguments have changed. Update your method calls accordingly.\n",
      "  if __name__ == '__main__':\n",
      "/usr/local/lib/python3.5/dist-packages/ipykernel_launcher.py:9: UserWarning: Update your `fit_generator` call to the Keras 2 API: `fit_generator(<keras_pre..., epochs=10, callbacks=[<keras.ca..., validation_data=<keras_pre..., validation_steps=250, steps_per_epoch=6061)`\n",
      "  if __name__ == '__main__':\n"
     ]
    },
    {
     "name": "stdout",
     "output_type": "stream",
     "text": [
      "Epoch 1/10\n",
      "6061/6061 [==============================] - 2134s 352ms/step - loss: 0.6927 - acc: 0.5154 - val_loss: 0.7035 - val_acc: 0.3400\n",
      "Epoch 2/10\n",
      "6061/6061 [==============================] - 2114s 349ms/step - loss: 0.6925 - acc: 0.5155 - val_loss: 0.6997 - val_acc: 0.3462\n",
      "Epoch 3/10\n",
      "6061/6061 [==============================] - 2110s 348ms/step - loss: 0.6918 - acc: 0.5230 - val_loss: 0.7027 - val_acc: 0.4260\n",
      "Epoch 4/10\n",
      "6061/6061 [==============================] - 2110s 348ms/step - loss: 0.6904 - acc: 0.5352 - val_loss: 0.6633 - val_acc: 0.6398\n",
      "Epoch 5/10\n",
      "6061/6061 [==============================] - 2114s 349ms/step - loss: 0.6886 - acc: 0.5421 - val_loss: 0.7019 - val_acc: 0.4898\n",
      "Epoch 6/10\n",
      "6061/6061 [==============================] - 2106s 347ms/step - loss: 0.6875 - acc: 0.5479 - val_loss: 0.7032 - val_acc: 0.4906\n",
      "Epoch 7/10\n",
      "6061/6061 [==============================] - 2107s 348ms/step - loss: 0.6865 - acc: 0.5524 - val_loss: 0.7025 - val_acc: 0.4954\n"
     ]
    },
    {
     "data": {
      "text/plain": [
       "<keras.callbacks.History at 0x7f4fd03f9668>"
      ]
     },
     "execution_count": 24,
     "metadata": {},
     "output_type": "execute_result"
    }
   ],
   "source": [
    "#model = VGG_16_TL(input_shape)\n",
    "model = VGG_16()\n",
    "print(model.summary())\n",
    "model.fit_generator(\n",
    "        train_generator,\n",
    "        callbacks=callbacks,\n",
    "        validation_data=validation_generator,\n",
    "        nb_epoch=30,steps_per_epoch=steps_per_epoch,\n",
    "        validation_steps=validation_steps)"
   ]
  },
  {
   "cell_type": "code",
   "execution_count": 25,
   "metadata": {
    "collapsed": true,
    "scrolled": true
   },
   "outputs": [],
   "source": [
    "save_model(model)"
   ]
  },
  {
   "cell_type": "markdown",
   "metadata": {},
   "source": [
    "## TIME FOR PREDICTION (JUMP TO NEXT SECTION IF YOU HAVE SAVED MODEL)"
   ]
  },
  {
   "cell_type": "code",
   "execution_count": 26,
   "metadata": {},
   "outputs": [
    {
     "name": "stdout",
     "output_type": "stream",
     "text": [
      "250/250 [==============================] - 11s 43ms/step\n",
      "TN: 977,FP: 2323, FN: 499, TP:1201\n"
     ]
    }
   ],
   "source": [
    "# NOTE : PREDICT GENERATOR IS NO GOOD AS IT DOESNT SEEM TO MAINTAIN SEQUENCE\n",
    "pred=model.predict_generator(test_generator,verbose=1,steps=test_steps)\n",
    "prediction_vgg = np.array([selector(xi) for xi in pred])\n",
    "cnf = confusion_matrix(test_labels, prediction_vgg)\n",
    "tn, fp, fn, tp = cnf.ravel()\n",
    "print(\"TN: {},FP: {}, FN: {}, TP:{}\".format(tn,fp,fn,tp))"
   ]
  },
  {
   "cell_type": "code",
   "execution_count": 28,
   "metadata": {},
   "outputs": [
    {
     "data": {
      "text/plain": [
       "array([[0.42242655, 0.5775734 ],\n",
       "       [0.519796  , 0.48020405],\n",
       "       [0.42575514, 0.57424486],\n",
       "       ...,\n",
       "       [0.42642525, 0.5735748 ],\n",
       "       [0.52736354, 0.47263652],\n",
       "       [0.5564203 , 0.44357973]], dtype=float32)"
      ]
     },
     "execution_count": 28,
     "metadata": {},
     "output_type": "execute_result"
    }
   ],
   "source": [
    "pred"
   ]
  },
  {
   "cell_type": "code",
   "execution_count": 27,
   "metadata": {},
   "outputs": [
    {
     "data": {
      "text/plain": [
       "<matplotlib.axes._subplots.AxesSubplot at 0x7f4f08dcd5f8>"
      ]
     },
     "execution_count": 27,
     "metadata": {},
     "output_type": "execute_result"
    },
    {
     "data": {
      "image/png": "[encoded data removed]",
      "text/plain": [
       "<Figure size 720x504 with 2 Axes>"
      ]
     },
     "metadata": {},
     "output_type": "display_data"
    }
   ],
   "source": [
    "df_cm = pd.DataFrame(cnf, index = [i for i in range(2)],\n",
    "                  columns = [i for i in range(2)])\n",
    "plt.figure(figsize = (10,7))\n",
    "sn.heatmap(df_cm, annot=True,cmap=\"YlGnBu\",fmt='g')"
   ]
  },
  {
   "cell_type": "markdown",
   "metadata": {
    "collapsed": true
   },
   "source": [
    "## LOAD SAVED MODEL AND PREDICT"
   ]
  },
  {
   "cell_type": "code",
   "execution_count": 23,
   "metadata": {},
   "outputs": [
    {
     "name": "stdout",
     "output_type": "stream",
     "text": [
      "WARNING:tensorflow:From /home/pavan/anaconda3/lib/python3.7/site-packages/tensorflow/python/framework/op_def_library.py:263: colocate_with (from tensorflow.python.framework.ops) is deprecated and will be removed in a future version.\n",
      "Instructions for updating:\n",
      "Colocations handled automatically by placer.\n",
      "WARNING:tensorflow:From /home/pavan/anaconda3/lib/python3.7/site-packages/keras/backend/tensorflow_backend.py:3445: calling dropout (from tensorflow.python.ops.nn_ops) with keep_prob is deprecated and will be removed in a future version.\n",
      "Instructions for updating:\n",
      "Please use `rate` instead of `keep_prob`. Rate should be set to `rate = 1 - keep_prob`.\n"
     ]
    }
   ],
   "source": [
    "model_vgg = load_model('./best_model.json',\n",
    "                           './best_model.h5')"
   ]
  },
  {
   "cell_type": "code",
   "execution_count": 27,
   "metadata": {
    "scrolled": true
   },
   "outputs": [
    {
     "name": "stdout",
     "output_type": "stream",
     "text": [
      "250/250 [==============================] - 213s 854ms/step\n"
     ]
    }
   ],
   "source": [
    "pred=model_vgg.predict_generator(test_generator,verbose=1,steps=test_steps)"
   ]
  },
  {
   "cell_type": "code",
   "execution_count": 28,
   "metadata": {},
   "outputs": [
    {
     "data": {
      "text/plain": [
       "array([[0.46719748, 0.5328025 ],\n",
       "       [0.5901194 , 0.40988055],\n",
       "       [0.5445768 , 0.45542318],\n",
       "       ...,\n",
       "       [0.54268855, 0.45731142],\n",
       "       [0.4684366 , 0.5315634 ],\n",
       "       [0.5667445 , 0.43325552]], dtype=float32)"
      ]
     },
     "execution_count": 28,
     "metadata": {},
     "output_type": "execute_result"
    }
   ],
   "source": [
    "pred"
   ]
  },
  {
   "cell_type": "code",
   "execution_count": 30,
   "metadata": {},
   "outputs": [
    {
     "name": "stdout",
     "output_type": "stream",
     "text": [
      "TN: 3026,FP: 274, FN: 1563, TP:137\n"
     ]
    }
   ],
   "source": [
    "prediction_vgg = np.array([selector(xi) for xi in pred])\n",
    "cnf = confusion_matrix(test_labels, prediction_vgg)\n",
    "tn,fp,fn,tp = cnf.ravel()\n",
    "print(\"TN: {},FP: {}, FN: {}, TP:{}\".format(tn,fp,fn,tp))"
   ]
  },
  {
   "cell_type": "code",
   "execution_count": 31,
   "metadata": {},
   "outputs": [
    {
     "data": {
      "text/plain": [
       "<matplotlib.axes._subplots.AxesSubplot at 0x7f0a98778860>"
      ]
     },
     "execution_count": 31,
     "metadata": {},
     "output_type": "execute_result"
    },
    {
     "data": {
      "image/png": "[encoded data removed]",
      "text/plain": [
       "<Figure size 720x504 with 2 Axes>"
      ]
     },
     "metadata": {
      "needs_background": "light"
     },
     "output_type": "display_data"
    }
   ],
   "source": [
    "df_cm = pd.DataFrame(cnf, index = [i for i in range(2)],\n",
    "                  columns = [i for i in range(2)])\n",
    "plt.figure(figsize = (10,7))\n",
    "sn.heatmap(df_cm, annot=True,cmap=\"YlGnBu\",fmt='g')"
   ]
  },
  {
   "cell_type": "code",
   "execution_count": 35,
   "metadata": {},
   "outputs": [
    {
     "name": "stdout",
     "output_type": "stream",
     "text": [
      "250/250 [==============================] - 203s 813ms/step\n"
     ]
    }
   ],
   "source": [
    "pred_val=model_vgg.evaluate_generator(validation_generator,verbose=1,steps=test_steps)"
   ]
  },
  {
   "cell_type": "code",
   "execution_count": 34,
   "metadata": {},
   "outputs": [
    {
     "data": {
      "text/plain": [
       "0.663347861289978"
      ]
     },
     "execution_count": 34,
     "metadata": {},
     "output_type": "execute_result"
    }
   ],
   "source": [
    "pred_val"
   ]
  },
  {
   "cell_type": "code",
   "execution_count": 36,
   "metadata": {},
   "outputs": [
    {
     "data": {
      "text/plain": [
       "0.6628066027164459"
      ]
     },
     "execution_count": 36,
     "metadata": {},
     "output_type": "execute_result"
    }
   ],
   "source": [
    "pred_val"
   ]
  },
  {
   "cell_type": "code",
   "execution_count": 117,
   "metadata": {},
   "outputs": [
    {
     "name": "stdout",
     "output_type": "stream",
     "text": [
      "250/250 [==============================] - 210s 841ms/step\n",
      "TN: 3026,FP: 274, FN: 1567, TP:133\n"
     ]
    }
   ],
   "source": [
    "# Predict test data\n",
    "pred_2=model_vgg.predict_generator(test_generator,verbose=1,steps=test_steps,workers=0)\n",
    "prediction_vgg = np.array([selector(xi) for xi in pred_2])\n",
    "cnf = confusion_matrix(test_labels, prediction_vgg)\n",
    "tn,fp,fn,tp = cnf.ravel()\n",
    "print(\"TN: {},FP: {}, FN: {}, TP:{}\".format(tn,fp,fn,tp))"
   ]
  },
  {
   "cell_type": "code",
   "execution_count": 50,
   "metadata": {},
   "outputs": [
    {
     "name": "stdout",
     "output_type": "stream",
     "text": [
      "250/250 [==============================] - 202s 808ms/step\n"
     ]
    },
    {
     "data": {
      "text/plain": [
       "0.663297012090683"
      ]
     },
     "execution_count": 50,
     "metadata": {},
     "output_type": "execute_result"
    }
   ],
   "source": [
    "# Evaluate test data\n",
    "test_acc=model_vgg.evaluate_generator(test_generator,verbose=1,steps=test_steps)\n",
    "test_acc"
   ]
  },
  {
   "cell_type": "code",
   "execution_count": 118,
   "metadata": {},
   "outputs": [
    {
     "name": "stdout",
     "output_type": "stream",
     "text": [
      "0.5442228\n",
      "4509\n"
     ]
    }
   ],
   "source": [
    "pred_df = pd.DataFrame(pred_2,columns=['DR','No_DR'])\n",
    "pred_df['True_Label'] = test_labels\n",
    "pred_df['Pred_Label'] = prediction_vgg\n",
    "\n",
    "# Extract True Positive\n",
    "pred_pos = pred_df[(pred_df.No_DR>=0.5) & (pred_df.True_Label==pred_df.Pred_Label)]\n",
    "print(np.max(pred_pos.No_DR))\n",
    "print(pred_pos.No_DR.idxmax())"
   ]
  },
  {
   "cell_type": "code",
   "execution_count": 137,
   "metadata": {},
   "outputs": [
    {
     "data": {
      "text/plain": [
       "(5000,)"
      ]
     },
     "execution_count": 137,
     "metadata": {},
     "output_type": "execute_result"
    }
   ],
   "source": [
    "test_image_list.shape"
   ]
  },
  {
   "cell_type": "code",
   "execution_count": 85,
   "metadata": {},
   "outputs": [
    {
     "data": {
      "text/plain": [
       "5000"
      ]
     },
     "execution_count": 85,
     "metadata": {},
     "output_type": "execute_result"
    }
   ],
   "source": [
    "testList = list(test_image_list)\n",
    "len(testList)"
   ]
  },
  {
   "cell_type": "code",
   "execution_count": 123,
   "metadata": {},
   "outputs": [
    {
     "name": "stdout",
     "output_type": "stream",
     "text": [
      "\r",
      "1/1 [==============================] - 0s 140ms/step\n"
     ]
    }
   ],
   "source": [
    "image_test = cv2.imread('./Retinal-Images/test_resize_224/10074_left.jpeg')\n",
    "image_test_pp_mod = np.expand_dims(image_test,0)\n",
    "pred_0 = model_vgg.predict_generator(\n",
    "    test_datagen.flow(image_test_pp_mod, batch_size=1),\n",
    "    steps=1,verbose=1)"
   ]
  },
  {
   "cell_type": "code",
   "execution_count": 124,
   "metadata": {},
   "outputs": [
    {
     "data": {
      "text/plain": [
       "array([[0.55316824, 0.44683182]], dtype=float32)"
      ]
     },
     "execution_count": 124,
     "metadata": {},
     "output_type": "execute_result"
    }
   ],
   "source": [
    "pred_0"
   ]
  },
  {
   "cell_type": "markdown",
   "metadata": {},
   "source": [
    "## Prediction without using generator"
   ]
  },
  {
   "cell_type": "code",
   "execution_count": 125,
   "metadata": {},
   "outputs": [
    {
     "data": {
      "text/plain": [
       "5000"
      ]
     },
     "execution_count": 125,
     "metadata": {},
     "output_type": "execute_result"
    }
   ],
   "source": [
    "# Process each image one at a time\n",
    "image_class_list = list()\n",
    "for image in testList:\n",
    "    image_loc = './Retinal-Images/test_resize_224/' + image + '.jpeg'\n",
    "    image_test = cv2.imread(image_loc)\n",
    "    image_test_mod = preprocess(image_test)\n",
    "    image_test_pp_mod = np.expand_dims(image_test_mod,0)\n",
    "    image_class_proba = model_vgg.predict_proba(image_test_pp_mod).flatten()\n",
    "    image_class = selector(image_class_proba)\n",
    "    image_class_list.append(image_class)\n",
    "\n",
    "len(image_class_list)"
   ]
  },
  {
   "cell_type": "code",
   "execution_count": 146,
   "metadata": {},
   "outputs": [
    {
     "data": {
      "text/plain": [
       "(5000,)"
      ]
     },
     "execution_count": 146,
     "metadata": {},
     "output_type": "execute_result"
    }
   ],
   "source": [
    "pred_no_gen = np.asarray(image_class_list)\n",
    "pred_no_gen.shape"
   ]
  },
  {
   "cell_type": "code",
   "execution_count": 147,
   "metadata": {},
   "outputs": [
    {
     "name": "stdout",
     "output_type": "stream",
     "text": [
      "TN: 3195,FP: 105, FN: 1638, TP:62\n"
     ]
    }
   ],
   "source": [
    "cnf = confusion_matrix(test_labels, pred_no_gen)\n",
    "tn,fp,fn,tp = cnf.ravel()\n",
    "print(\"TN: {},FP: {}, FN: {}, TP:{}\".format(tn,fp,fn,tp))"
   ]
  },
  {
   "cell_type": "code",
   "execution_count": 148,
   "metadata": {},
   "outputs": [
    {
     "data": {
      "text/plain": [
       "<matplotlib.axes._subplots.AxesSubplot at 0x7f0a984d7a90>"
      ]
     },
     "execution_count": 148,
     "metadata": {},
     "output_type": "execute_result"
    },
    {
     "data": {
      "image/png": "[encoded data removed]",
      "text/plain": [
       "<Figure size 720x504 with 2 Axes>"
      ]
     },
     "metadata": {
      "needs_background": "light"
     },
     "output_type": "display_data"
    }
   ],
   "source": [
    "df_cm = pd.DataFrame(cnf, index = [i for i in range(2)],\n",
    "                  columns = [i for i in range(2)])\n",
    "plt.figure(figsize = (10,7))\n",
    "sn.heatmap(df_cm, annot=True,cmap=\"YlGnBu\",fmt='g')"
   ]
  },
  {
   "cell_type": "code",
   "execution_count": 138,
   "metadata": {
    "scrolled": true
   },
   "outputs": [],
   "source": [
    "df_pred_class = pd.DataFrame(test_image_list,columns=['Image'])\n",
    "df_pred_class['Actual'] = test_labels\n",
    "df_pred_class['Pred'] = image_class_list\n",
    "df_class_1 = df_pred_class[(df_pred_class.Pred==1)&(df_pred_class.Actual==df_pred_class.Pred)]"
   ]
  },
  {
   "cell_type": "code",
   "execution_count": 140,
   "metadata": {},
   "outputs": [
    {
     "data": {
      "text/html": [
       "<div>\n",
       "<style scoped>\n",
       "    .dataframe tbody tr th:only-of-type {\n",
       "        vertical-align: middle;\n",
       "    }\n",
       "\n",
       "    .dataframe tbody tr th {\n",
       "        vertical-align: top;\n",
       "    }\n",
       "\n",
       "    .dataframe thead th {\n",
       "        text-align: right;\n",
       "    }\n",
       "</style>\n",
       "<table border=\"1\" class=\"dataframe\">\n",
       "  <thead>\n",
       "    <tr style=\"text-align: right;\">\n",
       "      <th></th>\n",
       "      <th>Image</th>\n",
       "      <th>Actual</th>\n",
       "      <th>Pred</th>\n",
       "    </tr>\n",
       "  </thead>\n",
       "  <tbody>\n",
       "    <tr>\n",
       "      <th>3310</th>\n",
       "      <td>1909_right</td>\n",
       "      <td>1</td>\n",
       "      <td>1</td>\n",
       "    </tr>\n",
       "    <tr>\n",
       "      <th>3319</th>\n",
       "      <td>34652_left</td>\n",
       "      <td>1</td>\n",
       "      <td>1</td>\n",
       "    </tr>\n",
       "    <tr>\n",
       "      <th>3322</th>\n",
       "      <td>23769_right</td>\n",
       "      <td>1</td>\n",
       "      <td>1</td>\n",
       "    </tr>\n",
       "    <tr>\n",
       "      <th>3341</th>\n",
       "      <td>43285_left</td>\n",
       "      <td>1</td>\n",
       "      <td>1</td>\n",
       "    </tr>\n",
       "    <tr>\n",
       "      <th>3562</th>\n",
       "      <td>14804_left</td>\n",
       "      <td>1</td>\n",
       "      <td>1</td>\n",
       "    </tr>\n",
       "    <tr>\n",
       "      <th>3667</th>\n",
       "      <td>1415_right</td>\n",
       "      <td>1</td>\n",
       "      <td>1</td>\n",
       "    </tr>\n",
       "    <tr>\n",
       "      <th>3757</th>\n",
       "      <td>18236_right</td>\n",
       "      <td>1</td>\n",
       "      <td>1</td>\n",
       "    </tr>\n",
       "    <tr>\n",
       "      <th>3800</th>\n",
       "      <td>13917_left</td>\n",
       "      <td>1</td>\n",
       "      <td>1</td>\n",
       "    </tr>\n",
       "    <tr>\n",
       "      <th>3814</th>\n",
       "      <td>33487_left</td>\n",
       "      <td>1</td>\n",
       "      <td>1</td>\n",
       "    </tr>\n",
       "    <tr>\n",
       "      <th>3819</th>\n",
       "      <td>41975_right</td>\n",
       "      <td>1</td>\n",
       "      <td>1</td>\n",
       "    </tr>\n",
       "  </tbody>\n",
       "</table>\n",
       "</div>"
      ],
      "text/plain": [
       "            Image  Actual  Pred\n",
       "3310   1909_right       1     1\n",
       "3319   34652_left       1     1\n",
       "3322  23769_right       1     1\n",
       "3341   43285_left       1     1\n",
       "3562   14804_left       1     1\n",
       "3667   1415_right       1     1\n",
       "3757  18236_right       1     1\n",
       "3800   13917_left       1     1\n",
       "3814   33487_left       1     1\n",
       "3819  41975_right       1     1"
      ]
     },
     "execution_count": 140,
     "metadata": {},
     "output_type": "execute_result"
    }
   ],
   "source": [
    "df_class_1.head(10)"
   ]
  },
  {
   "cell_type": "code",
   "execution_count": 152,
   "metadata": {},
   "outputs": [
    {
     "data": {
      "text/html": [
       "<div>\n",
       "<style scoped>\n",
       "    .dataframe tbody tr th:only-of-type {\n",
       "        vertical-align: middle;\n",
       "    }\n",
       "\n",
       "    .dataframe tbody tr th {\n",
       "        vertical-align: top;\n",
       "    }\n",
       "\n",
       "    .dataframe thead th {\n",
       "        text-align: right;\n",
       "    }\n",
       "</style>\n",
       "<table border=\"1\" class=\"dataframe\">\n",
       "  <thead>\n",
       "    <tr style=\"text-align: right;\">\n",
       "      <th></th>\n",
       "      <th>Image</th>\n",
       "      <th>Actual</th>\n",
       "      <th>Pred</th>\n",
       "    </tr>\n",
       "  </thead>\n",
       "  <tbody>\n",
       "    <tr>\n",
       "      <th>0</th>\n",
       "      <td>7704_left</td>\n",
       "      <td>0</td>\n",
       "      <td>0</td>\n",
       "    </tr>\n",
       "    <tr>\n",
       "      <th>1</th>\n",
       "      <td>12406_right</td>\n",
       "      <td>0</td>\n",
       "      <td>0</td>\n",
       "    </tr>\n",
       "    <tr>\n",
       "      <th>2</th>\n",
       "      <td>12224_right</td>\n",
       "      <td>0</td>\n",
       "      <td>0</td>\n",
       "    </tr>\n",
       "    <tr>\n",
       "      <th>3</th>\n",
       "      <td>11711_right</td>\n",
       "      <td>0</td>\n",
       "      <td>0</td>\n",
       "    </tr>\n",
       "    <tr>\n",
       "      <th>4</th>\n",
       "      <td>31432_left</td>\n",
       "      <td>0</td>\n",
       "      <td>0</td>\n",
       "    </tr>\n",
       "  </tbody>\n",
       "</table>\n",
       "</div>"
      ],
      "text/plain": [
       "         Image  Actual  Pred\n",
       "0    7704_left       0     0\n",
       "1  12406_right       0     0\n",
       "2  12224_right       0     0\n",
       "3  11711_right       0     0\n",
       "4   31432_left       0     0"
      ]
     },
     "execution_count": 152,
     "metadata": {},
     "output_type": "execute_result"
    }
   ],
   "source": [
    "df_class_0 = df_pred_class[(df_pred_class.Pred==0)&(df_pred_class.Actual==df_pred_class.Pred)]\n",
    "df_class_0.head(5)"
   ]
  },
  {
   "cell_type": "code",
   "execution_count": 144,
   "metadata": {},
   "outputs": [
    {
     "data": {
      "text/plain": [
       "Image     62\n",
       "Actual    62\n",
       "Pred      62\n",
       "dtype: int64"
      ]
     },
     "execution_count": 144,
     "metadata": {},
     "output_type": "execute_result"
    }
   ],
   "source": [
    "df_class_1.count()"
   ]
  },
  {
   "cell_type": "code",
   "execution_count": 151,
   "metadata": {},
   "outputs": [
    {
     "data": {
      "text/plain": [
       "array([[0.46853352, 0.5314664 ]], dtype=float32)"
      ]
     },
     "execution_count": 151,
     "metadata": {},
     "output_type": "execute_result"
    }
   ],
   "source": [
    "image_test = cv2.imread('./Retinal-Images/test_resize_224/41975_right.jpeg')\n",
    "image_test_pp = preprocess(image_test,scale=224)\n",
    "image_test_pp_mod = np.expand_dims(image_test_pp,0)\n",
    "image_class_proba = model_vgg.predict_proba(image_test_pp_mod)\n",
    "image_class_proba"
   ]
  },
  {
   "cell_type": "code",
   "execution_count": 46,
   "metadata": {},
   "outputs": [
    {
     "name": "stdout",
     "output_type": "stream",
     "text": [
      "250/250 [==============================] - 211s 845ms/step\n",
      "TN: 3013,FP: 287, FN: 1570, TP:130\n"
     ]
    }
   ],
   "source": [
    "# Predict validation data\n",
    "pred_val=model_vgg.predict_generator(validation_generator,verbose=1,steps=test_steps,workers=0)\n",
    "prediction_vgg = np.array([selector(xi) for xi in pred_val])\n",
    "cnf = confusion_matrix(val_labels, prediction_vgg)\n",
    "tn,fp,fn,tp = cnf.ravel()\n",
    "print(\"TN: {},FP: {}, FN: {}, TP:{}\".format(tn,fp,fn,tp))"
   ]
  },
  {
   "cell_type": "code",
   "execution_count": 39,
   "metadata": {},
   "outputs": [
    {
     "name": "stdout",
     "output_type": "stream",
     "text": [
      "250/250 [==============================] - 212s 848ms/step\n",
      "TN: 3013,FP: 287, FN: 1570, TP:130\n"
     ]
    }
   ],
   "source": [
    "pred_2=model_vgg.predict_generator(test_generator,verbose=1,steps=test_steps,workers=0)\n",
    "cnf = confusion_matrix(test_labels, prediction_vgg)\n",
    "tn,fp,fn,tp = cnf.ravel()\n",
    "print(\"TN: {},FP: {}, FN: {}, TP:{}\".format(tn,fp,fn,tp))"
   ]
  },
  {
   "cell_type": "code",
   "execution_count": 40,
   "metadata": {},
   "outputs": [
    {
     "data": {
      "text/plain": [
       "<matplotlib.axes._subplots.AxesSubplot at 0x7f0a986def60>"
      ]
     },
     "execution_count": 40,
     "metadata": {},
     "output_type": "execute_result"
    },
    {
     "data": {
      "image/png": "[encoded data removed]",
      "text/plain": [
       "<Figure size 720x504 with 2 Axes>"
      ]
     },
     "metadata": {
      "needs_background": "light"
     },
     "output_type": "display_data"
    }
   ],
   "source": [
    "df_cm = pd.DataFrame(cnf, index = [i for i in range(2)],\n",
    "                  columns = [i for i in range(2)])\n",
    "plt.figure(figsize = (10,7))\n",
    "sn.heatmap(df_cm, annot=True,cmap=\"YlGnBu\",fmt='g')"
   ]
  },
  {
   "cell_type": "code",
   "execution_count": null,
   "metadata": {},
   "outputs": [],
   "source": []
  }
 ],
 "metadata": {
  "kernelspec": {
   "display_name": "Python 3",
   "language": "python",
   "name": "python3"
  },
  "language_info": {
   "codemirror_mode": {
    "name": "ipython",
    "version": 3
   },
   "file_extension": ".py",
   "mimetype": "text/x-python",
   "name": "python",
   "nbconvert_exporter": "python",
   "pygments_lexer": "ipython3",
   "version": "3.7.1"
  }
 },
 "nbformat": 4,
 "nbformat_minor": 1
}
